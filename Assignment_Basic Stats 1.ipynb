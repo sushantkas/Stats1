{
  "nbformat": 4,
  "nbformat_minor": 0,
  "metadata": {
    "colab": {
      "name": "Assignment August.ipynb",
      "provenance": [],
      "collapsed_sections": [
        "YcagpjaN4IpB",
        "e6kQdtPM378G",
        "KQlO2tbzbQBC",
        "JU7kf-KnpCWE",
        "FtZwKTVsrJUE",
        "oLIkQc_ilAcu",
        "DqSSt-Ut-q1j",
        "ht_fgP5Z_vxp",
        "rifD3EynQcBM"
      ]
    },
    "kernelspec": {
      "name": "python3",
      "display_name": "Python 3"
    },
    "language_info": {
      "name": "python"
    }
  },
  "cells": [
    {
      "cell_type": "markdown",
      "metadata": {
        "id": "YcagpjaN4IpB"
      },
      "source": [
        "# Question Number 7"
      ]
    },
    {
      "cell_type": "code",
      "metadata": {
        "id": "0AoO_d9OVMg0"
      },
      "source": [
        "import pandas as pd\n",
        "import numpy as np\n",
        "import matplotlib.pyplot as plt\n"
      ],
      "execution_count": 100,
      "outputs": []
    },
    {
      "cell_type": "code",
      "metadata": {
        "id": "pAIzD_ChVctJ"
      },
      "source": [
        "df=pd.read_csv(\"/content/Q7.csv\")"
      ],
      "execution_count": 101,
      "outputs": []
    },
    {
      "cell_type": "code",
      "metadata": {
        "id": "pjv_kpf1iSmT",
        "colab": {
          "base_uri": "https://localhost:8080/",
          "height": 0
        },
        "outputId": "c298abbb-fa94-4267-85aa-9d468f5ce503"
      },
      "source": [
        "df"
      ],
      "execution_count": 102,
      "outputs": [
        {
          "output_type": "execute_result",
          "data": {
            "text/html": [
              "<div>\n",
              "<style scoped>\n",
              "    .dataframe tbody tr th:only-of-type {\n",
              "        vertical-align: middle;\n",
              "    }\n",
              "\n",
              "    .dataframe tbody tr th {\n",
              "        vertical-align: top;\n",
              "    }\n",
              "\n",
              "    .dataframe thead th {\n",
              "        text-align: right;\n",
              "    }\n",
              "</style>\n",
              "<table border=\"1\" class=\"dataframe\">\n",
              "  <thead>\n",
              "    <tr style=\"text-align: right;\">\n",
              "      <th></th>\n",
              "      <th>Unnamed: 0</th>\n",
              "      <th>Points</th>\n",
              "      <th>Score</th>\n",
              "      <th>Weigh</th>\n",
              "    </tr>\n",
              "  </thead>\n",
              "  <tbody>\n",
              "    <tr>\n",
              "      <th>0</th>\n",
              "      <td>Mazda RX4</td>\n",
              "      <td>3.90</td>\n",
              "      <td>2.620</td>\n",
              "      <td>16.46</td>\n",
              "    </tr>\n",
              "    <tr>\n",
              "      <th>1</th>\n",
              "      <td>Mazda RX4 Wag</td>\n",
              "      <td>3.90</td>\n",
              "      <td>2.875</td>\n",
              "      <td>17.02</td>\n",
              "    </tr>\n",
              "    <tr>\n",
              "      <th>2</th>\n",
              "      <td>Datsun 710</td>\n",
              "      <td>3.85</td>\n",
              "      <td>2.320</td>\n",
              "      <td>18.61</td>\n",
              "    </tr>\n",
              "    <tr>\n",
              "      <th>3</th>\n",
              "      <td>Hornet 4 Drive</td>\n",
              "      <td>3.08</td>\n",
              "      <td>3.215</td>\n",
              "      <td>19.44</td>\n",
              "    </tr>\n",
              "    <tr>\n",
              "      <th>4</th>\n",
              "      <td>Hornet Sportabout</td>\n",
              "      <td>3.15</td>\n",
              "      <td>3.440</td>\n",
              "      <td>17.02</td>\n",
              "    </tr>\n",
              "    <tr>\n",
              "      <th>5</th>\n",
              "      <td>Valiant</td>\n",
              "      <td>2.76</td>\n",
              "      <td>3.460</td>\n",
              "      <td>20.22</td>\n",
              "    </tr>\n",
              "    <tr>\n",
              "      <th>6</th>\n",
              "      <td>Duster 360</td>\n",
              "      <td>3.21</td>\n",
              "      <td>3.570</td>\n",
              "      <td>15.84</td>\n",
              "    </tr>\n",
              "    <tr>\n",
              "      <th>7</th>\n",
              "      <td>Merc 240D</td>\n",
              "      <td>3.69</td>\n",
              "      <td>3.190</td>\n",
              "      <td>20.00</td>\n",
              "    </tr>\n",
              "    <tr>\n",
              "      <th>8</th>\n",
              "      <td>Merc 230</td>\n",
              "      <td>3.92</td>\n",
              "      <td>3.150</td>\n",
              "      <td>22.90</td>\n",
              "    </tr>\n",
              "    <tr>\n",
              "      <th>9</th>\n",
              "      <td>Merc 280</td>\n",
              "      <td>3.92</td>\n",
              "      <td>3.440</td>\n",
              "      <td>18.30</td>\n",
              "    </tr>\n",
              "    <tr>\n",
              "      <th>10</th>\n",
              "      <td>Merc 280C</td>\n",
              "      <td>3.92</td>\n",
              "      <td>3.440</td>\n",
              "      <td>18.90</td>\n",
              "    </tr>\n",
              "    <tr>\n",
              "      <th>11</th>\n",
              "      <td>Merc 450SE</td>\n",
              "      <td>3.07</td>\n",
              "      <td>4.070</td>\n",
              "      <td>17.40</td>\n",
              "    </tr>\n",
              "    <tr>\n",
              "      <th>12</th>\n",
              "      <td>Merc 450SL</td>\n",
              "      <td>3.07</td>\n",
              "      <td>3.730</td>\n",
              "      <td>17.60</td>\n",
              "    </tr>\n",
              "    <tr>\n",
              "      <th>13</th>\n",
              "      <td>Merc 450SLC</td>\n",
              "      <td>3.07</td>\n",
              "      <td>3.780</td>\n",
              "      <td>18.00</td>\n",
              "    </tr>\n",
              "    <tr>\n",
              "      <th>14</th>\n",
              "      <td>Cadillac Fleetwood</td>\n",
              "      <td>2.93</td>\n",
              "      <td>5.250</td>\n",
              "      <td>17.98</td>\n",
              "    </tr>\n",
              "    <tr>\n",
              "      <th>15</th>\n",
              "      <td>Lincoln Continental</td>\n",
              "      <td>3.00</td>\n",
              "      <td>5.424</td>\n",
              "      <td>17.82</td>\n",
              "    </tr>\n",
              "    <tr>\n",
              "      <th>16</th>\n",
              "      <td>Chrysler Imperial</td>\n",
              "      <td>3.23</td>\n",
              "      <td>5.345</td>\n",
              "      <td>17.42</td>\n",
              "    </tr>\n",
              "    <tr>\n",
              "      <th>17</th>\n",
              "      <td>Fiat 128</td>\n",
              "      <td>4.08</td>\n",
              "      <td>2.200</td>\n",
              "      <td>19.47</td>\n",
              "    </tr>\n",
              "    <tr>\n",
              "      <th>18</th>\n",
              "      <td>Honda Civic</td>\n",
              "      <td>4.93</td>\n",
              "      <td>1.615</td>\n",
              "      <td>18.52</td>\n",
              "    </tr>\n",
              "    <tr>\n",
              "      <th>19</th>\n",
              "      <td>Toyota Corolla</td>\n",
              "      <td>4.22</td>\n",
              "      <td>1.835</td>\n",
              "      <td>19.90</td>\n",
              "    </tr>\n",
              "    <tr>\n",
              "      <th>20</th>\n",
              "      <td>Toyota Corona</td>\n",
              "      <td>3.70</td>\n",
              "      <td>2.465</td>\n",
              "      <td>20.01</td>\n",
              "    </tr>\n",
              "    <tr>\n",
              "      <th>21</th>\n",
              "      <td>Dodge Challenger</td>\n",
              "      <td>2.76</td>\n",
              "      <td>3.520</td>\n",
              "      <td>16.87</td>\n",
              "    </tr>\n",
              "    <tr>\n",
              "      <th>22</th>\n",
              "      <td>AMC Javelin</td>\n",
              "      <td>3.15</td>\n",
              "      <td>3.435</td>\n",
              "      <td>17.30</td>\n",
              "    </tr>\n",
              "    <tr>\n",
              "      <th>23</th>\n",
              "      <td>Camaro Z28</td>\n",
              "      <td>3.73</td>\n",
              "      <td>3.840</td>\n",
              "      <td>15.41</td>\n",
              "    </tr>\n",
              "    <tr>\n",
              "      <th>24</th>\n",
              "      <td>Pontiac Firebird</td>\n",
              "      <td>3.08</td>\n",
              "      <td>3.845</td>\n",
              "      <td>17.05</td>\n",
              "    </tr>\n",
              "    <tr>\n",
              "      <th>25</th>\n",
              "      <td>Fiat X1-9</td>\n",
              "      <td>4.08</td>\n",
              "      <td>1.935</td>\n",
              "      <td>18.90</td>\n",
              "    </tr>\n",
              "    <tr>\n",
              "      <th>26</th>\n",
              "      <td>Porsche 914-2</td>\n",
              "      <td>4.43</td>\n",
              "      <td>2.140</td>\n",
              "      <td>16.70</td>\n",
              "    </tr>\n",
              "    <tr>\n",
              "      <th>27</th>\n",
              "      <td>Lotus Europa</td>\n",
              "      <td>3.77</td>\n",
              "      <td>1.513</td>\n",
              "      <td>16.90</td>\n",
              "    </tr>\n",
              "    <tr>\n",
              "      <th>28</th>\n",
              "      <td>Ford Pantera L</td>\n",
              "      <td>4.22</td>\n",
              "      <td>3.170</td>\n",
              "      <td>14.50</td>\n",
              "    </tr>\n",
              "    <tr>\n",
              "      <th>29</th>\n",
              "      <td>Ferrari Dino</td>\n",
              "      <td>3.62</td>\n",
              "      <td>2.770</td>\n",
              "      <td>15.50</td>\n",
              "    </tr>\n",
              "    <tr>\n",
              "      <th>30</th>\n",
              "      <td>Maserati Bora</td>\n",
              "      <td>3.54</td>\n",
              "      <td>3.570</td>\n",
              "      <td>14.60</td>\n",
              "    </tr>\n",
              "    <tr>\n",
              "      <th>31</th>\n",
              "      <td>Volvo 142E</td>\n",
              "      <td>4.11</td>\n",
              "      <td>2.780</td>\n",
              "      <td>18.60</td>\n",
              "    </tr>\n",
              "  </tbody>\n",
              "</table>\n",
              "</div>"
            ],
            "text/plain": [
              "             Unnamed: 0  Points  Score  Weigh\n",
              "0             Mazda RX4    3.90  2.620  16.46\n",
              "1         Mazda RX4 Wag    3.90  2.875  17.02\n",
              "2            Datsun 710    3.85  2.320  18.61\n",
              "3        Hornet 4 Drive    3.08  3.215  19.44\n",
              "4     Hornet Sportabout    3.15  3.440  17.02\n",
              "5               Valiant    2.76  3.460  20.22\n",
              "6            Duster 360    3.21  3.570  15.84\n",
              "7             Merc 240D    3.69  3.190  20.00\n",
              "8              Merc 230    3.92  3.150  22.90\n",
              "9              Merc 280    3.92  3.440  18.30\n",
              "10            Merc 280C    3.92  3.440  18.90\n",
              "11           Merc 450SE    3.07  4.070  17.40\n",
              "12           Merc 450SL    3.07  3.730  17.60\n",
              "13          Merc 450SLC    3.07  3.780  18.00\n",
              "14   Cadillac Fleetwood    2.93  5.250  17.98\n",
              "15  Lincoln Continental    3.00  5.424  17.82\n",
              "16    Chrysler Imperial    3.23  5.345  17.42\n",
              "17             Fiat 128    4.08  2.200  19.47\n",
              "18          Honda Civic    4.93  1.615  18.52\n",
              "19       Toyota Corolla    4.22  1.835  19.90\n",
              "20        Toyota Corona    3.70  2.465  20.01\n",
              "21     Dodge Challenger    2.76  3.520  16.87\n",
              "22          AMC Javelin    3.15  3.435  17.30\n",
              "23           Camaro Z28    3.73  3.840  15.41\n",
              "24     Pontiac Firebird    3.08  3.845  17.05\n",
              "25            Fiat X1-9    4.08  1.935  18.90\n",
              "26        Porsche 914-2    4.43  2.140  16.70\n",
              "27         Lotus Europa    3.77  1.513  16.90\n",
              "28       Ford Pantera L    4.22  3.170  14.50\n",
              "29         Ferrari Dino    3.62  2.770  15.50\n",
              "30        Maserati Bora    3.54  3.570  14.60\n",
              "31           Volvo 142E    4.11  2.780  18.60"
            ]
          },
          "metadata": {},
          "execution_count": 102
        }
      ]
    },
    {
      "cell_type": "code",
      "metadata": {
        "colab": {
          "base_uri": "https://localhost:8080/",
          "height": 0
        },
        "id": "sjQW-2APWCc9",
        "outputId": "b1624acf-fef5-408e-da0d-5a387aaa5268"
      },
      "source": [
        "df.head()"
      ],
      "execution_count": 103,
      "outputs": [
        {
          "output_type": "execute_result",
          "data": {
            "text/html": [
              "<div>\n",
              "<style scoped>\n",
              "    .dataframe tbody tr th:only-of-type {\n",
              "        vertical-align: middle;\n",
              "    }\n",
              "\n",
              "    .dataframe tbody tr th {\n",
              "        vertical-align: top;\n",
              "    }\n",
              "\n",
              "    .dataframe thead th {\n",
              "        text-align: right;\n",
              "    }\n",
              "</style>\n",
              "<table border=\"1\" class=\"dataframe\">\n",
              "  <thead>\n",
              "    <tr style=\"text-align: right;\">\n",
              "      <th></th>\n",
              "      <th>Unnamed: 0</th>\n",
              "      <th>Points</th>\n",
              "      <th>Score</th>\n",
              "      <th>Weigh</th>\n",
              "    </tr>\n",
              "  </thead>\n",
              "  <tbody>\n",
              "    <tr>\n",
              "      <th>0</th>\n",
              "      <td>Mazda RX4</td>\n",
              "      <td>3.90</td>\n",
              "      <td>2.620</td>\n",
              "      <td>16.46</td>\n",
              "    </tr>\n",
              "    <tr>\n",
              "      <th>1</th>\n",
              "      <td>Mazda RX4 Wag</td>\n",
              "      <td>3.90</td>\n",
              "      <td>2.875</td>\n",
              "      <td>17.02</td>\n",
              "    </tr>\n",
              "    <tr>\n",
              "      <th>2</th>\n",
              "      <td>Datsun 710</td>\n",
              "      <td>3.85</td>\n",
              "      <td>2.320</td>\n",
              "      <td>18.61</td>\n",
              "    </tr>\n",
              "    <tr>\n",
              "      <th>3</th>\n",
              "      <td>Hornet 4 Drive</td>\n",
              "      <td>3.08</td>\n",
              "      <td>3.215</td>\n",
              "      <td>19.44</td>\n",
              "    </tr>\n",
              "    <tr>\n",
              "      <th>4</th>\n",
              "      <td>Hornet Sportabout</td>\n",
              "      <td>3.15</td>\n",
              "      <td>3.440</td>\n",
              "      <td>17.02</td>\n",
              "    </tr>\n",
              "  </tbody>\n",
              "</table>\n",
              "</div>"
            ],
            "text/plain": [
              "          Unnamed: 0  Points  Score  Weigh\n",
              "0          Mazda RX4    3.90  2.620  16.46\n",
              "1      Mazda RX4 Wag    3.90  2.875  17.02\n",
              "2         Datsun 710    3.85  2.320  18.61\n",
              "3     Hornet 4 Drive    3.08  3.215  19.44\n",
              "4  Hornet Sportabout    3.15  3.440  17.02"
            ]
          },
          "metadata": {},
          "execution_count": 103
        }
      ]
    },
    {
      "cell_type": "code",
      "metadata": {
        "colab": {
          "base_uri": "https://localhost:8080/"
        },
        "id": "D89I44LzWIBM",
        "outputId": "326e8440-3a2b-4135-e3a9-e05f9dd7f92d"
      },
      "source": [
        "df.mean()"
      ],
      "execution_count": 104,
      "outputs": [
        {
          "output_type": "execute_result",
          "data": {
            "text/plain": [
              "Points     3.596563\n",
              "Score      3.217250\n",
              "Weigh     17.848750\n",
              "dtype: float64"
            ]
          },
          "metadata": {},
          "execution_count": 104
        }
      ]
    },
    {
      "cell_type": "code",
      "metadata": {
        "colab": {
          "base_uri": "https://localhost:8080/",
          "height": 0
        },
        "id": "fwpCdFZeWokw",
        "outputId": "e827e85e-338c-459d-b627-5138906958ce"
      },
      "source": [
        "# Mean Median STandard Deviation calculation\n",
        "stat=df.describe()\n",
        "stat"
      ],
      "execution_count": 105,
      "outputs": [
        {
          "output_type": "execute_result",
          "data": {
            "text/html": [
              "<div>\n",
              "<style scoped>\n",
              "    .dataframe tbody tr th:only-of-type {\n",
              "        vertical-align: middle;\n",
              "    }\n",
              "\n",
              "    .dataframe tbody tr th {\n",
              "        vertical-align: top;\n",
              "    }\n",
              "\n",
              "    .dataframe thead th {\n",
              "        text-align: right;\n",
              "    }\n",
              "</style>\n",
              "<table border=\"1\" class=\"dataframe\">\n",
              "  <thead>\n",
              "    <tr style=\"text-align: right;\">\n",
              "      <th></th>\n",
              "      <th>Points</th>\n",
              "      <th>Score</th>\n",
              "      <th>Weigh</th>\n",
              "    </tr>\n",
              "  </thead>\n",
              "  <tbody>\n",
              "    <tr>\n",
              "      <th>count</th>\n",
              "      <td>32.000000</td>\n",
              "      <td>32.000000</td>\n",
              "      <td>32.000000</td>\n",
              "    </tr>\n",
              "    <tr>\n",
              "      <th>mean</th>\n",
              "      <td>3.596563</td>\n",
              "      <td>3.217250</td>\n",
              "      <td>17.848750</td>\n",
              "    </tr>\n",
              "    <tr>\n",
              "      <th>std</th>\n",
              "      <td>0.534679</td>\n",
              "      <td>0.978457</td>\n",
              "      <td>1.786943</td>\n",
              "    </tr>\n",
              "    <tr>\n",
              "      <th>min</th>\n",
              "      <td>2.760000</td>\n",
              "      <td>1.513000</td>\n",
              "      <td>14.500000</td>\n",
              "    </tr>\n",
              "    <tr>\n",
              "      <th>25%</th>\n",
              "      <td>3.080000</td>\n",
              "      <td>2.581250</td>\n",
              "      <td>16.892500</td>\n",
              "    </tr>\n",
              "    <tr>\n",
              "      <th>50%</th>\n",
              "      <td>3.695000</td>\n",
              "      <td>3.325000</td>\n",
              "      <td>17.710000</td>\n",
              "    </tr>\n",
              "    <tr>\n",
              "      <th>75%</th>\n",
              "      <td>3.920000</td>\n",
              "      <td>3.610000</td>\n",
              "      <td>18.900000</td>\n",
              "    </tr>\n",
              "    <tr>\n",
              "      <th>max</th>\n",
              "      <td>4.930000</td>\n",
              "      <td>5.424000</td>\n",
              "      <td>22.900000</td>\n",
              "    </tr>\n",
              "  </tbody>\n",
              "</table>\n",
              "</div>"
            ],
            "text/plain": [
              "          Points      Score      Weigh\n",
              "count  32.000000  32.000000  32.000000\n",
              "mean    3.596563   3.217250  17.848750\n",
              "std     0.534679   0.978457   1.786943\n",
              "min     2.760000   1.513000  14.500000\n",
              "25%     3.080000   2.581250  16.892500\n",
              "50%     3.695000   3.325000  17.710000\n",
              "75%     3.920000   3.610000  18.900000\n",
              "max     4.930000   5.424000  22.900000"
            ]
          },
          "metadata": {},
          "execution_count": 105
        }
      ]
    },
    {
      "cell_type": "code",
      "metadata": {
        "colab": {
          "base_uri": "https://localhost:8080/",
          "height": 0
        },
        "id": "8wI_I2SiWsGX",
        "outputId": "57e5a59c-8270-4508-854a-f6402ef57f15"
      },
      "source": [
        "#Mode calculation\n",
        "df.mode().dropna()"
      ],
      "execution_count": 106,
      "outputs": [
        {
          "output_type": "execute_result",
          "data": {
            "text/html": [
              "<div>\n",
              "<style scoped>\n",
              "    .dataframe tbody tr th:only-of-type {\n",
              "        vertical-align: middle;\n",
              "    }\n",
              "\n",
              "    .dataframe tbody tr th {\n",
              "        vertical-align: top;\n",
              "    }\n",
              "\n",
              "    .dataframe thead th {\n",
              "        text-align: right;\n",
              "    }\n",
              "</style>\n",
              "<table border=\"1\" class=\"dataframe\">\n",
              "  <thead>\n",
              "    <tr style=\"text-align: right;\">\n",
              "      <th></th>\n",
              "      <th>Unnamed: 0</th>\n",
              "      <th>Points</th>\n",
              "      <th>Score</th>\n",
              "      <th>Weigh</th>\n",
              "    </tr>\n",
              "  </thead>\n",
              "  <tbody>\n",
              "    <tr>\n",
              "      <th>0</th>\n",
              "      <td>AMC Javelin</td>\n",
              "      <td>3.07</td>\n",
              "      <td>3.44</td>\n",
              "      <td>17.02</td>\n",
              "    </tr>\n",
              "  </tbody>\n",
              "</table>\n",
              "</div>"
            ],
            "text/plain": [
              "    Unnamed: 0  Points  Score  Weigh\n",
              "0  AMC Javelin    3.07   3.44  17.02"
            ]
          },
          "metadata": {},
          "execution_count": 106
        }
      ]
    },
    {
      "cell_type": "code",
      "metadata": {
        "colab": {
          "base_uri": "https://localhost:8080/"
        },
        "id": "m3N-alWVW5Ng",
        "outputId": "e020aadb-3b18-4348-e723-4d6173b31e78"
      },
      "source": [
        "range_points=df.Points.max()-df.Points.min()\n",
        "range_points"
      ],
      "execution_count": 107,
      "outputs": [
        {
          "output_type": "execute_result",
          "data": {
            "text/plain": [
              "2.17"
            ]
          },
          "metadata": {},
          "execution_count": 107
        }
      ]
    },
    {
      "cell_type": "code",
      "metadata": {
        "colab": {
          "base_uri": "https://localhost:8080/"
        },
        "id": "fWJywuVmX-Sf",
        "outputId": "09b32477-7656-43fa-d779-f737cccdfc9a"
      },
      "source": [
        "range_score=df.Score.max()-df.Score.min()\n",
        "range_score"
      ],
      "execution_count": 108,
      "outputs": [
        {
          "output_type": "execute_result",
          "data": {
            "text/plain": [
              "3.9109999999999996"
            ]
          },
          "metadata": {},
          "execution_count": 108
        }
      ]
    },
    {
      "cell_type": "code",
      "metadata": {
        "colab": {
          "base_uri": "https://localhost:8080/"
        },
        "id": "67R1zYaQX8T0",
        "outputId": "dfe1d70e-2d0d-425c-d78e-f572aa64b3f5"
      },
      "source": [
        "range_weigh=df.Weigh.max()-df.Weigh.min()\n",
        "range_weigh"
      ],
      "execution_count": 109,
      "outputs": [
        {
          "output_type": "execute_result",
          "data": {
            "text/plain": [
              "8.399999999999999"
            ]
          },
          "metadata": {},
          "execution_count": 109
        }
      ]
    },
    {
      "cell_type": "code",
      "metadata": {
        "colab": {
          "base_uri": "https://localhost:8080/"
        },
        "id": "suAfJsczXyw5",
        "outputId": "f173bf03-dd21-4662-9371-6b38cdb46073"
      },
      "source": [
        "dt=stat.iloc[2]\n",
        "dt"
      ],
      "execution_count": 110,
      "outputs": [
        {
          "output_type": "execute_result",
          "data": {
            "text/plain": [
              "Points    0.534679\n",
              "Score     0.978457\n",
              "Weigh     1.786943\n",
              "Name: std, dtype: float64"
            ]
          },
          "metadata": {},
          "execution_count": 110
        }
      ]
    },
    {
      "cell_type": "code",
      "metadata": {
        "colab": {
          "base_uri": "https://localhost:8080/"
        },
        "id": "5poO4nOJW3j4",
        "outputId": "b71ebff0-1022-42f0-9405-c2ef9ed0abe7"
      },
      "source": [
        "variance=dt*dt\n",
        "variance"
      ],
      "execution_count": 111,
      "outputs": [
        {
          "output_type": "execute_result",
          "data": {
            "text/plain": [
              "Points    0.285881\n",
              "Score     0.957379\n",
              "Weigh     3.193166\n",
              "Name: std, dtype: float64"
            ]
          },
          "metadata": {},
          "execution_count": 111
        }
      ]
    },
    {
      "cell_type": "markdown",
      "metadata": {
        "id": "-jU-vov3hQtL"
      },
      "source": [
        "Comments on Values: \n",
        "Variance and Standard Deviation is low which means data is not Widely Ditributed it is Centered around the Mean. 75% of data is under (Points\t3.920000)\t(Score=3.610000)\t(Weigh=18.900000)."
      ]
    },
    {
      "cell_type": "code",
      "metadata": {
        "id": "U7bK93xoWuq1"
      },
      "source": [
        "#Visualisation\n",
        "import matplotlib.pyplot as plt\n",
        "#matplotlib to render plots in the notebook\n",
        "%matplotlib inline"
      ],
      "execution_count": 112,
      "outputs": []
    },
    {
      "cell_type": "code",
      "metadata": {
        "colab": {
          "base_uri": "https://localhost:8080/"
        },
        "id": "HFXRKTJNkayF",
        "outputId": "da67e590-ab3a-487b-c9df-13f85cefe533"
      },
      "source": [
        "df.shape"
      ],
      "execution_count": 113,
      "outputs": [
        {
          "output_type": "execute_result",
          "data": {
            "text/plain": [
              "(32, 4)"
            ]
          },
          "metadata": {},
          "execution_count": 113
        }
      ]
    },
    {
      "cell_type": "code",
      "metadata": {
        "colab": {
          "base_uri": "https://localhost:8080/",
          "height": 0
        },
        "id": "o39eJVnUWFNc",
        "outputId": "0fe2c658-95a2-4484-8609-31e4e8a3e9aa"
      },
      "source": [
        "plt.scatter(df.Points, df.Score)"
      ],
      "execution_count": 114,
      "outputs": [
        {
          "output_type": "execute_result",
          "data": {
            "text/plain": [
              "<matplotlib.collections.PathCollection at 0x7f1bf97afd50>"
            ]
          },
          "metadata": {},
          "execution_count": 114
        },
        {
          "output_type": "display_data",
          "data": {
            "image/png": "[encoded data removed]",
            "text/plain": [
              "<Figure size 432x288 with 1 Axes>"
            ]
          },
          "metadata": {
            "needs_background": "light"
          }
        }
      ]
    },
    {
      "cell_type": "code",
      "metadata": {
        "colab": {
          "base_uri": "https://localhost:8080/",
          "height": 0
        },
        "id": "Ux_ahJ_LWDtM",
        "outputId": "2fab9e12-1a81-4e50-b1a8-a5f32efb8e93"
      },
      "source": [
        "plt.scatter(df.Points, df.Weigh)"
      ],
      "execution_count": 115,
      "outputs": [
        {
          "output_type": "execute_result",
          "data": {
            "text/plain": [
              "<matplotlib.collections.PathCollection at 0x7f1bf973da50>"
            ]
          },
          "metadata": {},
          "execution_count": 115
        },
        {
          "output_type": "display_data",
          "data": {
            "image/png": "[encoded data removed]",
            "text/plain": [
              "<Figure size 432x288 with 1 Axes>"
            ]
          },
          "metadata": {
            "needs_background": "light"
          }
        }
      ]
    },
    {
      "cell_type": "code",
      "metadata": {
        "colab": {
          "base_uri": "https://localhost:8080/",
          "height": 0
        },
        "id": "x3UFknKtpHey",
        "outputId": "7c24373e-49b3-480e-d246-fecca31049fc"
      },
      "source": [
        "plt.scatter(df.Weigh, df.Points)"
      ],
      "execution_count": 116,
      "outputs": [
        {
          "output_type": "execute_result",
          "data": {
            "text/plain": [
              "<matplotlib.collections.PathCollection at 0x7f1bf96d02d0>"
            ]
          },
          "metadata": {},
          "execution_count": 116
        },
        {
          "output_type": "display_data",
          "data": {
            "image/png": "[encoded data removed]",
            "text/plain": [
              "<Figure size 432x288 with 1 Axes>"
            ]
          },
          "metadata": {
            "needs_background": "light"
          }
        }
      ]
    },
    {
      "cell_type": "code",
      "metadata": {
        "colab": {
          "base_uri": "https://localhost:8080/",
          "height": 0
        },
        "id": "rSXzWUAnpbZV",
        "outputId": "0bf84c6a-7225-4d8b-917e-030e8b473a4d"
      },
      "source": [
        "plt.scatter(df.Weigh, df.Score)"
      ],
      "execution_count": 117,
      "outputs": [
        {
          "output_type": "execute_result",
          "data": {
            "text/plain": [
              "<matplotlib.collections.PathCollection at 0x7f1bf9633c10>"
            ]
          },
          "metadata": {},
          "execution_count": 117
        },
        {
          "output_type": "display_data",
          "data": {
            "image/png": "[encoded data removed]",
            "text/plain": [
              "<Figure size 432x288 with 1 Axes>"
            ]
          },
          "metadata": {
            "needs_background": "light"
          }
        }
      ]
    },
    {
      "cell_type": "code",
      "metadata": {
        "colab": {
          "base_uri": "https://localhost:8080/",
          "height": 0
        },
        "id": "xCivadWtpe7w",
        "outputId": "44500fc5-e8ad-48df-ce47-5c001902f716"
      },
      "source": [
        "plt.scatter(df.Score, df.Points)"
      ],
      "execution_count": 118,
      "outputs": [
        {
          "output_type": "execute_result",
          "data": {
            "text/plain": [
              "<matplotlib.collections.PathCollection at 0x7f1bf966d150>"
            ]
          },
          "metadata": {},
          "execution_count": 118
        },
        {
          "output_type": "display_data",
          "data": {
            "image/png": "[encoded data removed]",
            "text/plain": [
              "<Figure size 432x288 with 1 Axes>"
            ]
          },
          "metadata": {
            "needs_background": "light"
          }
        }
      ]
    },
    {
      "cell_type": "code",
      "metadata": {
        "colab": {
          "base_uri": "https://localhost:8080/",
          "height": 0
        },
        "id": "SYPCvlEDpjE2",
        "outputId": "f64e3749-8c5a-4188-b532-7459a5ce8e8b"
      },
      "source": [
        "plt.scatter(df.Score, df.Weigh)"
      ],
      "execution_count": 119,
      "outputs": [
        {
          "output_type": "execute_result",
          "data": {
            "text/plain": [
              "<matplotlib.collections.PathCollection at 0x7f1bf95ec950>"
            ]
          },
          "metadata": {},
          "execution_count": 119
        },
        {
          "output_type": "display_data",
          "data": {
            "image/png": "[encoded data removed]",
            "text/plain": [
              "<Figure size 432x288 with 1 Axes>"
            ]
          },
          "metadata": {
            "needs_background": "light"
          }
        }
      ]
    },
    {
      "cell_type": "code",
      "metadata": {
        "colab": {
          "base_uri": "https://localhost:8080/",
          "height": 0
        },
        "id": "CL5eCw4qpmqu",
        "outputId": "3e2fcffc-e8ce-456d-d1c9-1f407dd24f1b"
      },
      "source": [
        "plt.hist(df['Score'])"
      ],
      "execution_count": 120,
      "outputs": [
        {
          "output_type": "execute_result",
          "data": {
            "text/plain": [
              "(array([3., 3., 3., 3., 9., 7., 1., 0., 0., 3.]),\n",
              " array([1.513 , 1.9041, 2.2952, 2.6863, 3.0774, 3.4685, 3.8596, 4.2507,\n",
              "        4.6418, 5.0329, 5.424 ]),\n",
              " <a list of 10 Patch objects>)"
            ]
          },
          "metadata": {},
          "execution_count": 120
        },
        {
          "output_type": "display_data",
          "data": {
            "image/png": "[encoded data removed]",
            "text/plain": [
              "<Figure size 432x288 with 1 Axes>"
            ]
          },
          "metadata": {
            "needs_background": "light"
          }
        }
      ]
    },
    {
      "cell_type": "code",
      "metadata": {
        "colab": {
          "base_uri": "https://localhost:8080/",
          "height": 0
        },
        "id": "6PGcX6ycp9l0",
        "outputId": "6d0aa7d4-11dc-4ef9-9e77-6b57834d46ef"
      },
      "source": [
        "plt.hist(df['Points'])"
      ],
      "execution_count": 121,
      "outputs": [
        {
          "output_type": "execute_result",
          "data": {
            "text/plain": [
              "(array([3., 8., 2., 2., 4., 6., 5., 1., 0., 1.]),\n",
              " array([2.76 , 2.977, 3.194, 3.411, 3.628, 3.845, 4.062, 4.279, 4.496,\n",
              "        4.713, 4.93 ]),\n",
              " <a list of 10 Patch objects>)"
            ]
          },
          "metadata": {},
          "execution_count": 121
        },
        {
          "output_type": "display_data",
          "data": {
            "image/png": "[encoded data removed]",
            "text/plain": [
              "<Figure size 432x288 with 1 Axes>"
            ]
          },
          "metadata": {
            "needs_background": "light"
          }
        }
      ]
    },
    {
      "cell_type": "code",
      "metadata": {
        "colab": {
          "base_uri": "https://localhost:8080/",
          "height": 0
        },
        "id": "OauCX7URqByA",
        "outputId": "599626e8-656e-49e8-c667-b731369624cc"
      },
      "source": [
        "plt.hist(df['Weigh'])"
      ],
      "execution_count": 122,
      "outputs": [
        {
          "output_type": "execute_result",
          "data": {
            "text/plain": [
              "(array([2., 3., 4., 8., 6., 4., 4., 0., 0., 1.]),\n",
              " array([14.5 , 15.34, 16.18, 17.02, 17.86, 18.7 , 19.54, 20.38, 21.22,\n",
              "        22.06, 22.9 ]),\n",
              " <a list of 10 Patch objects>)"
            ]
          },
          "metadata": {},
          "execution_count": 122
        },
        {
          "output_type": "display_data",
          "data": {
            "image/png": "[encoded data removed]",
            "text/plain": [
              "<Figure size 432x288 with 1 Axes>"
            ]
          },
          "metadata": {
            "needs_background": "light"
          }
        }
      ]
    },
    {
      "cell_type": "code",
      "metadata": {
        "colab": {
          "base_uri": "https://localhost:8080/",
          "height": 0
        },
        "id": "j8XOCA_sqECW",
        "outputId": "b826b0c7-c02f-429c-b7e0-73ced799bcf9"
      },
      "source": [
        "plt.boxplot(df['Score'])"
      ],
      "execution_count": 123,
      "outputs": [
        {
          "output_type": "execute_result",
          "data": {
            "text/plain": [
              "{'boxes': [<matplotlib.lines.Line2D at 0x7f1bf9a77fd0>],\n",
              " 'caps': [<matplotlib.lines.Line2D at 0x7f1bf9a39350>,\n",
              "  <matplotlib.lines.Line2D at 0x7f1bf9af5d10>],\n",
              " 'fliers': [<matplotlib.lines.Line2D at 0x7f1bf9bd1090>],\n",
              " 'means': [],\n",
              " 'medians': [<matplotlib.lines.Line2D at 0x7f1bf9bd1510>],\n",
              " 'whiskers': [<matplotlib.lines.Line2D at 0x7f1bfa9d6290>,\n",
              "  <matplotlib.lines.Line2D at 0x7f1bf9a15810>]}"
            ]
          },
          "metadata": {},
          "execution_count": 123
        },
        {
          "output_type": "display_data",
          "data": {
            "image/png": "[encoded data removed]",
            "text/plain": [
              "<Figure size 432x288 with 1 Axes>"
            ]
          },
          "metadata": {
            "needs_background": "light"
          }
        }
      ]
    },
    {
      "cell_type": "code",
      "metadata": {
        "colab": {
          "base_uri": "https://localhost:8080/",
          "height": 0
        },
        "id": "JMZqwH3uqQe-",
        "outputId": "f06e5c5f-b33f-4c3e-bc6b-380ecd5bcf62"
      },
      "source": [
        "plt.boxplot(df['Points'])"
      ],
      "execution_count": 124,
      "outputs": [
        {
          "output_type": "execute_result",
          "data": {
            "text/plain": [
              "{'boxes': [<matplotlib.lines.Line2D at 0x7f1bf9366210>],\n",
              " 'caps': [<matplotlib.lines.Line2D at 0x7f1bf936d250>,\n",
              "  <matplotlib.lines.Line2D at 0x7f1bf936d790>],\n",
              " 'fliers': [<matplotlib.lines.Line2D at 0x7f1bf92f2290>],\n",
              " 'means': [],\n",
              " 'medians': [<matplotlib.lines.Line2D at 0x7f1bf936dd10>],\n",
              " 'whiskers': [<matplotlib.lines.Line2D at 0x7f1bf9366790>,\n",
              "  <matplotlib.lines.Line2D at 0x7f1bf9366cd0>]}"
            ]
          },
          "metadata": {},
          "execution_count": 124
        },
        {
          "output_type": "display_data",
          "data": {
            "image/png": "[encoded data removed]",
            "text/plain": [
              "<Figure size 432x288 with 1 Axes>"
            ]
          },
          "metadata": {
            "needs_background": "light"
          }
        }
      ]
    },
    {
      "cell_type": "code",
      "metadata": {
        "colab": {
          "base_uri": "https://localhost:8080/",
          "height": 0
        },
        "id": "ukqY-ZJfqbZb",
        "outputId": "d3508b57-82c7-4298-e403-8696db5e3c72"
      },
      "source": [
        "plt.boxplot(df['Weigh'])"
      ],
      "execution_count": 125,
      "outputs": [
        {
          "output_type": "execute_result",
          "data": {
            "text/plain": [
              "{'boxes': [<matplotlib.lines.Line2D at 0x7f1bf92c9550>],\n",
              " 'caps': [<matplotlib.lines.Line2D at 0x7f1bf92cf590>,\n",
              "  <matplotlib.lines.Line2D at 0x7f1bf92cfad0>],\n",
              " 'fliers': [<matplotlib.lines.Line2D at 0x7f1bf92d55d0>],\n",
              " 'means': [],\n",
              " 'medians': [<matplotlib.lines.Line2D at 0x7f1bf92d5090>],\n",
              " 'whiskers': [<matplotlib.lines.Line2D at 0x7f1bf92c9ad0>,\n",
              "  <matplotlib.lines.Line2D at 0x7f1bf92cf050>]}"
            ]
          },
          "metadata": {},
          "execution_count": 125
        },
        {
          "output_type": "display_data",
          "data": {
            "image/png": "[encoded data removed]",
            "text/plain": [
              "<Figure size 432x288 with 1 Axes>"
            ]
          },
          "metadata": {
            "needs_background": "light"
          }
        }
      ]
    },
    {
      "cell_type": "code",
      "metadata": {
        "colab": {
          "base_uri": "https://localhost:8080/",
          "height": 0
        },
        "id": "95_1CEyNqc4V",
        "outputId": "f9ba39df-9d37-4f5c-e55c-61a786543b5b"
      },
      "source": [
        "\n",
        "plt.violinplot(df[\"Weigh\"])\n",
        "\n"
      ],
      "execution_count": 126,
      "outputs": [
        {
          "output_type": "execute_result",
          "data": {
            "text/plain": [
              "{'bodies': [<matplotlib.collections.PolyCollection at 0x7f1bf929f910>],\n",
              " 'cbars': <matplotlib.collections.LineCollection at 0x7f1bf929fb10>,\n",
              " 'cmaxes': <matplotlib.collections.LineCollection at 0x7f1bf929f790>,\n",
              " 'cmins': <matplotlib.collections.LineCollection at 0x7f1bf929fa90>}"
            ]
          },
          "metadata": {},
          "execution_count": 126
        },
        {
          "output_type": "display_data",
          "data": {
            "image/png": "[encoded data removed]",
            "text/plain": [
              "<Figure size 432x288 with 1 Axes>"
            ]
          },
          "metadata": {
            "needs_background": "light"
          }
        }
      ]
    },
    {
      "cell_type": "code",
      "metadata": {
        "colab": {
          "base_uri": "https://localhost:8080/",
          "height": 0
        },
        "id": "h8BpbsLoq5SE",
        "outputId": "1ea8c732-8196-4853-e613-c98a4f25edb5"
      },
      "source": [
        "plt.violinplot(df[\"Score\"])"
      ],
      "execution_count": 127,
      "outputs": [
        {
          "output_type": "execute_result",
          "data": {
            "text/plain": [
              "{'bodies': [<matplotlib.collections.PolyCollection at 0x7f1bf920c6d0>],\n",
              " 'cbars': <matplotlib.collections.LineCollection at 0x7f1bf920c850>,\n",
              " 'cmaxes': <matplotlib.collections.LineCollection at 0x7f1bf920c510>,\n",
              " 'cmins': <matplotlib.collections.LineCollection at 0x7f1bf920c7d0>}"
            ]
          },
          "metadata": {},
          "execution_count": 127
        },
        {
          "output_type": "display_data",
          "data": {
            "image/png": "[encoded data removed]",
            "text/plain": [
              "<Figure size 432x288 with 1 Axes>"
            ]
          },
          "metadata": {
            "needs_background": "light"
          }
        }
      ]
    },
    {
      "cell_type": "code",
      "metadata": {
        "colab": {
          "base_uri": "https://localhost:8080/",
          "height": 0
        },
        "id": "M2FlKaaZrLm9",
        "outputId": "b8351bdc-5cc2-4106-ad85-33c2f0327521"
      },
      "source": [
        "plt.violinplot(df[\"Points\"])"
      ],
      "execution_count": 128,
      "outputs": [
        {
          "output_type": "execute_result",
          "data": {
            "text/plain": [
              "{'bodies': [<matplotlib.collections.PolyCollection at 0x7f1bf9184850>],\n",
              " 'cbars': <matplotlib.collections.LineCollection at 0x7f1bf9184b50>,\n",
              " 'cmaxes': <matplotlib.collections.LineCollection at 0x7f1bf9184650>,\n",
              " 'cmins': <matplotlib.collections.LineCollection at 0x7f1bf9184ad0>}"
            ]
          },
          "metadata": {},
          "execution_count": 128
        },
        {
          "output_type": "display_data",
          "data": {
            "image/png": "[encoded data removed]",
            "text/plain": [
              "<Figure size 432x288 with 1 Axes>"
            ]
          },
          "metadata": {
            "needs_background": "light"
          }
        }
      ]
    },
    {
      "cell_type": "code",
      "metadata": {
        "id": "Qhchyw-QrMYl"
      },
      "source": [
        "\n",
        "import seaborn as sns"
      ],
      "execution_count": 129,
      "outputs": []
    },
    {
      "cell_type": "code",
      "metadata": {
        "colab": {
          "base_uri": "https://localhost:8080/",
          "height": 0
        },
        "id": "R3kVwW_-thPp",
        "outputId": "6e78a731-6994-4a85-ea46-1e5dfa8e90f4"
      },
      "source": [
        "sns.jointplot(x='Weigh', y='Score', data=df)"
      ],
      "execution_count": 130,
      "outputs": [
        {
          "output_type": "execute_result",
          "data": {
            "text/plain": [
              "<seaborn.axisgrid.JointGrid at 0x7f1bf9136450>"
            ]
          },
          "metadata": {},
          "execution_count": 130
        },
        {
          "output_type": "display_data",
          "data": {
            "image/png": "[encoded data removed]",
            "text/plain": [
              "<Figure size 432x432 with 3 Axes>"
            ]
          },
          "metadata": {
            "needs_background": "light"
          }
        }
      ]
    },
    {
      "cell_type": "code",
      "metadata": {
        "colab": {
          "base_uri": "https://localhost:8080/",
          "height": 0
        },
        "id": "-UsvFKZ3uKHU",
        "outputId": "07842d79-ceef-4f83-f620-b0b864105765"
      },
      "source": [
        "sns.jointplot(x='Weigh', y='Points', data=df)"
      ],
      "execution_count": 131,
      "outputs": [
        {
          "output_type": "execute_result",
          "data": {
            "text/plain": [
              "<seaborn.axisgrid.JointGrid at 0x7f1bf90675d0>"
            ]
          },
          "metadata": {},
          "execution_count": 131
        },
        {
          "output_type": "display_data",
          "data": {
            "image/png": "[encoded data removed]",
            "text/plain": [
              "<Figure size 432x432 with 3 Axes>"
            ]
          },
          "metadata": {
            "needs_background": "light"
          }
        }
      ]
    },
    {
      "cell_type": "code",
      "metadata": {
        "colab": {
          "base_uri": "https://localhost:8080/",
          "height": 0
        },
        "id": "TlzUy68CuOic",
        "outputId": "f2daf92d-93e4-4785-9354-b79a365bf801"
      },
      "source": [
        "sns.jointplot(x='Weigh', y='Score', data=df, kind='kde')\n"
      ],
      "execution_count": 132,
      "outputs": [
        {
          "output_type": "execute_result",
          "data": {
            "text/plain": [
              "<seaborn.axisgrid.JointGrid at 0x7f1bf8f44a10>"
            ]
          },
          "metadata": {},
          "execution_count": 132
        },
        {
          "output_type": "display_data",
          "data": {
            "image/png": "[encoded data removed]",
            "text/plain": [
              "<Figure size 432x432 with 3 Axes>"
            ]
          },
          "metadata": {
            "needs_background": "light"
          }
        }
      ]
    },
    {
      "cell_type": "code",
      "metadata": {
        "colab": {
          "base_uri": "https://localhost:8080/",
          "height": 0
        },
        "id": "_qVGOp_iujV6",
        "outputId": "51daea81-6944-4160-d9d2-be147bffd589"
      },
      "source": [
        "sns.jointplot(x='Weigh', y='Points', data=df, kind='kde')"
      ],
      "execution_count": 133,
      "outputs": [
        {
          "output_type": "execute_result",
          "data": {
            "text/plain": [
              "<seaborn.axisgrid.JointGrid at 0x7f1bf8f44710>"
            ]
          },
          "metadata": {},
          "execution_count": 133
        },
        {
          "output_type": "display_data",
          "data": {
            "image/png": "[encoded data removed]",
            "text/plain": [
              "<Figure size 432x432 with 3 Axes>"
            ]
          },
          "metadata": {
            "needs_background": "light"
          }
        }
      ]
    },
    {
      "cell_type": "code",
      "metadata": {
        "colab": {
          "base_uri": "https://localhost:8080/",
          "height": 0
        },
        "id": "VFSuzW6fu1In",
        "outputId": "d2ea3802-432a-4672-9aa8-bfaa6b4eafdd"
      },
      "source": [
        "sns.pairplot(df)"
      ],
      "execution_count": 134,
      "outputs": [
        {
          "output_type": "execute_result",
          "data": {
            "text/plain": [
              "<seaborn.axisgrid.PairGrid at 0x7f1bf8c33a10>"
            ]
          },
          "metadata": {},
          "execution_count": 134
        },
        {
          "output_type": "display_data",
          "data": {
            "image/png": "[encoded data removed]",
            "text/plain": [
              "<Figure size 540x540 with 12 Axes>"
            ]
          },
          "metadata": {
            "needs_background": "light"
          }
        }
      ]
    },
    {
      "cell_type": "markdown",
      "metadata": {
        "id": "TX36nozgyqJ9"
      },
      "source": [
        "Comments on Visualisation:\n",
        "In the Above Visualisation we can see that in Scatter plot it si showing that. Score points Decreases as Points Increases and viceversa."
      ]
    },
    {
      "cell_type": "markdown",
      "metadata": {
        "id": "e6kQdtPM378G"
      },
      "source": [
        "# Question *Number* 9= Q9_a\n",
        "\n"
      ]
    },
    {
      "cell_type": "code",
      "metadata": {
        "id": "BQUyl-L128iW"
      },
      "source": [
        "import pandas as pd\n",
        "import numpy as np\n",
        "import matplotlib.pyplot as plt\n"
      ],
      "execution_count": 135,
      "outputs": []
    },
    {
      "cell_type": "code",
      "metadata": {
        "id": "aw6n2KXv4XJ6"
      },
      "source": [
        " Q9_a=pd.read_csv(\"/content/Q9_a.csv\")"
      ],
      "execution_count": 136,
      "outputs": []
    },
    {
      "cell_type": "code",
      "metadata": {
        "colab": {
          "base_uri": "https://localhost:8080/",
          "height": 203
        },
        "id": "jtjv-r0RK4f7",
        "outputId": "238207df-d3e0-468e-96f4-842607666ad0"
      },
      "source": [
        "Q9_a.head()"
      ],
      "execution_count": 137,
      "outputs": [
        {
          "output_type": "execute_result",
          "data": {
            "text/html": [
              "<div>\n",
              "<style scoped>\n",
              "    .dataframe tbody tr th:only-of-type {\n",
              "        vertical-align: middle;\n",
              "    }\n",
              "\n",
              "    .dataframe tbody tr th {\n",
              "        vertical-align: top;\n",
              "    }\n",
              "\n",
              "    .dataframe thead th {\n",
              "        text-align: right;\n",
              "    }\n",
              "</style>\n",
              "<table border=\"1\" class=\"dataframe\">\n",
              "  <thead>\n",
              "    <tr style=\"text-align: right;\">\n",
              "      <th></th>\n",
              "      <th>Index</th>\n",
              "      <th>speed</th>\n",
              "      <th>dist</th>\n",
              "    </tr>\n",
              "  </thead>\n",
              "  <tbody>\n",
              "    <tr>\n",
              "      <th>0</th>\n",
              "      <td>1</td>\n",
              "      <td>4</td>\n",
              "      <td>2</td>\n",
              "    </tr>\n",
              "    <tr>\n",
              "      <th>1</th>\n",
              "      <td>2</td>\n",
              "      <td>4</td>\n",
              "      <td>10</td>\n",
              "    </tr>\n",
              "    <tr>\n",
              "      <th>2</th>\n",
              "      <td>3</td>\n",
              "      <td>7</td>\n",
              "      <td>4</td>\n",
              "    </tr>\n",
              "    <tr>\n",
              "      <th>3</th>\n",
              "      <td>4</td>\n",
              "      <td>7</td>\n",
              "      <td>22</td>\n",
              "    </tr>\n",
              "    <tr>\n",
              "      <th>4</th>\n",
              "      <td>5</td>\n",
              "      <td>8</td>\n",
              "      <td>16</td>\n",
              "    </tr>\n",
              "  </tbody>\n",
              "</table>\n",
              "</div>"
            ],
            "text/plain": [
              "   Index  speed  dist\n",
              "0      1      4     2\n",
              "1      2      4    10\n",
              "2      3      7     4\n",
              "3      4      7    22\n",
              "4      5      8    16"
            ]
          },
          "metadata": {},
          "execution_count": 137
        }
      ]
    },
    {
      "cell_type": "code",
      "metadata": {
        "colab": {
          "base_uri": "https://localhost:8080/"
        },
        "id": "gS3vlao8K8xp",
        "outputId": "3da77647-639d-44a2-80c0-fa60172f6665"
      },
      "source": [
        "Q9_a.skew()"
      ],
      "execution_count": 138,
      "outputs": [
        {
          "output_type": "execute_result",
          "data": {
            "text/plain": [
              "Index    0.000000\n",
              "speed   -0.117510\n",
              "dist     0.806895\n",
              "dtype: float64"
            ]
          },
          "metadata": {},
          "execution_count": 138
        }
      ]
    },
    {
      "cell_type": "code",
      "metadata": {
        "colab": {
          "base_uri": "https://localhost:8080/"
        },
        "id": "3046NW2bLPGM",
        "outputId": "76e12a5a-8a4f-4c79-fb10-eb40902ce212"
      },
      "source": [
        "Q9_a.kurtosis()"
      ],
      "execution_count": 139,
      "outputs": [
        {
          "output_type": "execute_result",
          "data": {
            "text/plain": [
              "Index   -1.200000\n",
              "speed   -0.508994\n",
              "dist     0.405053\n",
              "dtype: float64"
            ]
          },
          "metadata": {},
          "execution_count": 139
        }
      ]
    },
    {
      "cell_type": "code",
      "metadata": {
        "colab": {
          "base_uri": "https://localhost:8080/",
          "height": 295
        },
        "id": "nI4Qbnzz3cnb",
        "outputId": "4ca60973-f5a3-4101-dd9f-0c35404e1fcc"
      },
      "source": [
        "Q9_a.describe()"
      ],
      "execution_count": 140,
      "outputs": [
        {
          "output_type": "execute_result",
          "data": {
            "text/html": [
              "<div>\n",
              "<style scoped>\n",
              "    .dataframe tbody tr th:only-of-type {\n",
              "        vertical-align: middle;\n",
              "    }\n",
              "\n",
              "    .dataframe tbody tr th {\n",
              "        vertical-align: top;\n",
              "    }\n",
              "\n",
              "    .dataframe thead th {\n",
              "        text-align: right;\n",
              "    }\n",
              "</style>\n",
              "<table border=\"1\" class=\"dataframe\">\n",
              "  <thead>\n",
              "    <tr style=\"text-align: right;\">\n",
              "      <th></th>\n",
              "      <th>Index</th>\n",
              "      <th>speed</th>\n",
              "      <th>dist</th>\n",
              "    </tr>\n",
              "  </thead>\n",
              "  <tbody>\n",
              "    <tr>\n",
              "      <th>count</th>\n",
              "      <td>50.00000</td>\n",
              "      <td>50.000000</td>\n",
              "      <td>50.000000</td>\n",
              "    </tr>\n",
              "    <tr>\n",
              "      <th>mean</th>\n",
              "      <td>25.50000</td>\n",
              "      <td>15.400000</td>\n",
              "      <td>42.980000</td>\n",
              "    </tr>\n",
              "    <tr>\n",
              "      <th>std</th>\n",
              "      <td>14.57738</td>\n",
              "      <td>5.287644</td>\n",
              "      <td>25.769377</td>\n",
              "    </tr>\n",
              "    <tr>\n",
              "      <th>min</th>\n",
              "      <td>1.00000</td>\n",
              "      <td>4.000000</td>\n",
              "      <td>2.000000</td>\n",
              "    </tr>\n",
              "    <tr>\n",
              "      <th>25%</th>\n",
              "      <td>13.25000</td>\n",
              "      <td>12.000000</td>\n",
              "      <td>26.000000</td>\n",
              "    </tr>\n",
              "    <tr>\n",
              "      <th>50%</th>\n",
              "      <td>25.50000</td>\n",
              "      <td>15.000000</td>\n",
              "      <td>36.000000</td>\n",
              "    </tr>\n",
              "    <tr>\n",
              "      <th>75%</th>\n",
              "      <td>37.75000</td>\n",
              "      <td>19.000000</td>\n",
              "      <td>56.000000</td>\n",
              "    </tr>\n",
              "    <tr>\n",
              "      <th>max</th>\n",
              "      <td>50.00000</td>\n",
              "      <td>25.000000</td>\n",
              "      <td>120.000000</td>\n",
              "    </tr>\n",
              "  </tbody>\n",
              "</table>\n",
              "</div>"
            ],
            "text/plain": [
              "          Index      speed        dist\n",
              "count  50.00000  50.000000   50.000000\n",
              "mean   25.50000  15.400000   42.980000\n",
              "std    14.57738   5.287644   25.769377\n",
              "min     1.00000   4.000000    2.000000\n",
              "25%    13.25000  12.000000   26.000000\n",
              "50%    25.50000  15.000000   36.000000\n",
              "75%    37.75000  19.000000   56.000000\n",
              "max    50.00000  25.000000  120.000000"
            ]
          },
          "metadata": {},
          "execution_count": 140
        }
      ]
    },
    {
      "cell_type": "code",
      "metadata": {
        "colab": {
          "base_uri": "https://localhost:8080/",
          "height": 203
        },
        "id": "QymuNcgsPcxo",
        "outputId": "4cd1edb2-4df3-4ff8-a447-321e70fa4df2"
      },
      "source": [
        "Q9a=Q9_a.iloc[:,1:3]\n",
        "Q9a.head()"
      ],
      "execution_count": 141,
      "outputs": [
        {
          "output_type": "execute_result",
          "data": {
            "text/html": [
              "<div>\n",
              "<style scoped>\n",
              "    .dataframe tbody tr th:only-of-type {\n",
              "        vertical-align: middle;\n",
              "    }\n",
              "\n",
              "    .dataframe tbody tr th {\n",
              "        vertical-align: top;\n",
              "    }\n",
              "\n",
              "    .dataframe thead th {\n",
              "        text-align: right;\n",
              "    }\n",
              "</style>\n",
              "<table border=\"1\" class=\"dataframe\">\n",
              "  <thead>\n",
              "    <tr style=\"text-align: right;\">\n",
              "      <th></th>\n",
              "      <th>speed</th>\n",
              "      <th>dist</th>\n",
              "    </tr>\n",
              "  </thead>\n",
              "  <tbody>\n",
              "    <tr>\n",
              "      <th>0</th>\n",
              "      <td>4</td>\n",
              "      <td>2</td>\n",
              "    </tr>\n",
              "    <tr>\n",
              "      <th>1</th>\n",
              "      <td>4</td>\n",
              "      <td>10</td>\n",
              "    </tr>\n",
              "    <tr>\n",
              "      <th>2</th>\n",
              "      <td>7</td>\n",
              "      <td>4</td>\n",
              "    </tr>\n",
              "    <tr>\n",
              "      <th>3</th>\n",
              "      <td>7</td>\n",
              "      <td>22</td>\n",
              "    </tr>\n",
              "    <tr>\n",
              "      <th>4</th>\n",
              "      <td>8</td>\n",
              "      <td>16</td>\n",
              "    </tr>\n",
              "  </tbody>\n",
              "</table>\n",
              "</div>"
            ],
            "text/plain": [
              "   speed  dist\n",
              "0      4     2\n",
              "1      4    10\n",
              "2      7     4\n",
              "3      7    22\n",
              "4      8    16"
            ]
          },
          "metadata": {},
          "execution_count": 141
        }
      ]
    },
    {
      "cell_type": "code",
      "metadata": {
        "colab": {
          "base_uri": "https://localhost:8080/",
          "height": 391
        },
        "id": "g1S1w-nTRMo4",
        "outputId": "b6874c3b-4b46-4868-c42d-9b7c1b5af6b9"
      },
      "source": [
        "sns.pairplot(Q9a)"
      ],
      "execution_count": 142,
      "outputs": [
        {
          "output_type": "execute_result",
          "data": {
            "text/plain": [
              "<seaborn.axisgrid.PairGrid at 0x7f1bf8850fd0>"
            ]
          },
          "metadata": {},
          "execution_count": 142
        },
        {
          "output_type": "display_data",
          "data": {
            "image/png": "[encoded data removed]",
            "text/plain": [
              "<Figure size 360x360 with 6 Axes>"
            ]
          },
          "metadata": {
            "needs_background": "light"
          }
        }
      ]
    },
    {
      "cell_type": "code",
      "metadata": {
        "colab": {
          "base_uri": "https://localhost:8080/",
          "height": 399
        },
        "id": "skREGUI1RPmE",
        "outputId": "8117a201-6657-487c-839e-b9e992dbb74d"
      },
      "source": [
        "plt.boxplot(Q9a['dist'])"
      ],
      "execution_count": 143,
      "outputs": [
        {
          "output_type": "execute_result",
          "data": {
            "text/plain": [
              "{'boxes': [<matplotlib.lines.Line2D at 0x7f1bf8612510>],\n",
              " 'caps': [<matplotlib.lines.Line2D at 0x7f1bf8617550>,\n",
              "  <matplotlib.lines.Line2D at 0x7f1bf8617a90>],\n",
              " 'fliers': [<matplotlib.lines.Line2D at 0x7f1bf861d590>],\n",
              " 'means': [],\n",
              " 'medians': [<matplotlib.lines.Line2D at 0x7f1bf861d050>],\n",
              " 'whiskers': [<matplotlib.lines.Line2D at 0x7f1bf8612a90>,\n",
              "  <matplotlib.lines.Line2D at 0x7f1bf8612fd0>]}"
            ]
          },
          "metadata": {},
          "execution_count": 143
        },
        {
          "output_type": "display_data",
          "data": {
            "image/png": "[encoded data removed]",
            "text/plain": [
              "<Figure size 432x288 with 1 Axes>"
            ]
          },
          "metadata": {
            "needs_background": "light"
          }
        }
      ]
    },
    {
      "cell_type": "code",
      "metadata": {
        "colab": {
          "base_uri": "https://localhost:8080/",
          "height": 399
        },
        "id": "2K6jIlYhZGBp",
        "outputId": "bfbb388e-3480-411d-e03d-44bf1b76c342"
      },
      "source": [
        "plt.boxplot(Q9a['speed'])"
      ],
      "execution_count": 144,
      "outputs": [
        {
          "output_type": "execute_result",
          "data": {
            "text/plain": [
              "{'boxes': [<matplotlib.lines.Line2D at 0x7f1bf8575610>],\n",
              " 'caps': [<matplotlib.lines.Line2D at 0x7f1bf857a650>,\n",
              "  <matplotlib.lines.Line2D at 0x7f1bf857ab90>],\n",
              " 'fliers': [<matplotlib.lines.Line2D at 0x7f1bf8582690>],\n",
              " 'means': [],\n",
              " 'medians': [<matplotlib.lines.Line2D at 0x7f1bf8582150>],\n",
              " 'whiskers': [<matplotlib.lines.Line2D at 0x7f1bf8575b90>,\n",
              "  <matplotlib.lines.Line2D at 0x7f1bf857a110>]}"
            ]
          },
          "metadata": {},
          "execution_count": 144
        },
        {
          "output_type": "display_data",
          "data": {
            "image/png": "[encoded data removed]",
            "text/plain": [
              "<Figure size 432x288 with 1 Axes>"
            ]
          },
          "metadata": {
            "needs_background": "light"
          }
        }
      ]
    },
    {
      "cell_type": "code",
      "metadata": {
        "colab": {
          "base_uri": "https://localhost:8080/",
          "height": 332
        },
        "id": "G0w-MGWbZMgH",
        "outputId": "0e6f073d-eb1c-4691-b08d-038fe92d2d63"
      },
      "source": [
        "plt.hist(Q9a['dist'])"
      ],
      "execution_count": 145,
      "outputs": [
        {
          "output_type": "execute_result",
          "data": {
            "text/plain": [
              "(array([ 4.,  8., 14.,  6.,  7.,  4.,  3.,  3.,  0.,  1.]),\n",
              " array([  2. ,  13.8,  25.6,  37.4,  49.2,  61. ,  72.8,  84.6,  96.4,\n",
              "        108.2, 120. ]),\n",
              " <a list of 10 Patch objects>)"
            ]
          },
          "metadata": {},
          "execution_count": 145
        },
        {
          "output_type": "display_data",
          "data": {
            "image/png": "[encoded data removed]",
            "text/plain": [
              "<Figure size 432x288 with 1 Axes>"
            ]
          },
          "metadata": {
            "needs_background": "light"
          }
        }
      ]
    },
    {
      "cell_type": "code",
      "metadata": {
        "colab": {
          "base_uri": "https://localhost:8080/",
          "height": 335
        },
        "id": "Q3OqwkB_bBVw",
        "outputId": "4bd159ec-7146-4882-8a94-484f1eb3ae98"
      },
      "source": [
        "sns.distplot(Q9a\n",
        "             )"
      ],
      "execution_count": 146,
      "outputs": [
        {
          "output_type": "stream",
          "name": "stderr",
          "text": [
            "/usr/local/lib/python3.7/dist-packages/seaborn/distributions.py:2619: FutureWarning: `distplot` is a deprecated function and will be removed in a future version. Please adapt your code to use either `displot` (a figure-level function with similar flexibility) or `histplot` (an axes-level function for histograms).\n",
            "  warnings.warn(msg, FutureWarning)\n"
          ]
        },
        {
          "output_type": "execute_result",
          "data": {
            "text/plain": [
              "<matplotlib.axes._subplots.AxesSubplot at 0x7f1bf84b7610>"
            ]
          },
          "metadata": {},
          "execution_count": 146
        },
        {
          "output_type": "display_data",
          "data": {
            "image/png": "[encoded data removed]",
            "text/plain": [
              "<Figure size 432x288 with 1 Axes>"
            ]
          },
          "metadata": {
            "needs_background": "light"
          }
        }
      ]
    },
    {
      "cell_type": "code",
      "metadata": {
        "id": "0zKyHMfgdMU1",
        "colab": {
          "base_uri": "https://localhost:8080/",
          "height": 458
        },
        "outputId": "c097c05c-a20a-4c61-8a0f-e297c2f9ee6a"
      },
      "source": [
        "\n",
        "sns.jointplot(x=\"speed\", y=\"dist\",data=Q9a,kind=\"kde\")\n"
      ],
      "execution_count": 147,
      "outputs": [
        {
          "output_type": "execute_result",
          "data": {
            "text/plain": [
              "<seaborn.axisgrid.JointGrid at 0x7f1bf8ccd450>"
            ]
          },
          "metadata": {},
          "execution_count": 147
        },
        {
          "output_type": "display_data",
          "data": {
            "image/png": "[encoded data removed]",
            "text/plain": [
              "<Figure size 432x432 with 3 Axes>"
            ]
          },
          "metadata": {
            "needs_background": "light"
          }
        }
      ]
    },
    {
      "cell_type": "markdown",
      "metadata": {
        "id": "oyXQTk0IQ-PT"
      },
      "source": [
        "Comments: \n",
        "Skewness is Negative. Negative Skewness implies a left Skewed Distribution.\n",
        "Kurtosis:\n",
        "Kurtosis value is Negative. \n",
        "Negative values of kurtosis indicate that a distribution is flat and has thin tails\n",
        "Speed it Independent Variable (X axis) and Distance is Dependent Variable(Y Axis)\n",
        "In the above Diagrams it can be seen that most of data points are in range 0-50 dist and 5-20 speed"
      ]
    },
    {
      "cell_type": "markdown",
      "metadata": {
        "id": "KQlO2tbzbQBC"
      },
      "source": [
        "# Question *Number* 9= Q9_b"
      ]
    },
    {
      "cell_type": "code",
      "metadata": {
        "id": "2f0pNbfUOYzd"
      },
      "source": [
        "import pandas as pd\n",
        "import numpy as np\n",
        "import matplotlib.pyplot as plt"
      ],
      "execution_count": 148,
      "outputs": []
    },
    {
      "cell_type": "code",
      "metadata": {
        "id": "1qzfVjYqbnVR"
      },
      "source": [
        " Q9_b=pd.read_csv(\"/content/Q9_b.csv\")"
      ],
      "execution_count": 149,
      "outputs": []
    },
    {
      "cell_type": "code",
      "metadata": {
        "colab": {
          "base_uri": "https://localhost:8080/",
          "height": 0
        },
        "id": "oUdj4amBKrXy",
        "outputId": "b757a58e-7783-4ab2-912b-771a38587c24"
      },
      "source": [
        "Q9_b.head()"
      ],
      "execution_count": 150,
      "outputs": [
        {
          "output_type": "execute_result",
          "data": {
            "text/html": [
              "<div>\n",
              "<style scoped>\n",
              "    .dataframe tbody tr th:only-of-type {\n",
              "        vertical-align: middle;\n",
              "    }\n",
              "\n",
              "    .dataframe tbody tr th {\n",
              "        vertical-align: top;\n",
              "    }\n",
              "\n",
              "    .dataframe thead th {\n",
              "        text-align: right;\n",
              "    }\n",
              "</style>\n",
              "<table border=\"1\" class=\"dataframe\">\n",
              "  <thead>\n",
              "    <tr style=\"text-align: right;\">\n",
              "      <th></th>\n",
              "      <th>Unnamed: 0</th>\n",
              "      <th>SP</th>\n",
              "      <th>WT</th>\n",
              "    </tr>\n",
              "  </thead>\n",
              "  <tbody>\n",
              "    <tr>\n",
              "      <th>0</th>\n",
              "      <td>1</td>\n",
              "      <td>104.185353</td>\n",
              "      <td>28.762059</td>\n",
              "    </tr>\n",
              "    <tr>\n",
              "      <th>1</th>\n",
              "      <td>2</td>\n",
              "      <td>105.461264</td>\n",
              "      <td>30.466833</td>\n",
              "    </tr>\n",
              "    <tr>\n",
              "      <th>2</th>\n",
              "      <td>3</td>\n",
              "      <td>105.461264</td>\n",
              "      <td>30.193597</td>\n",
              "    </tr>\n",
              "    <tr>\n",
              "      <th>3</th>\n",
              "      <td>4</td>\n",
              "      <td>113.461264</td>\n",
              "      <td>30.632114</td>\n",
              "    </tr>\n",
              "    <tr>\n",
              "      <th>4</th>\n",
              "      <td>5</td>\n",
              "      <td>104.461264</td>\n",
              "      <td>29.889149</td>\n",
              "    </tr>\n",
              "  </tbody>\n",
              "</table>\n",
              "</div>"
            ],
            "text/plain": [
              "   Unnamed: 0          SP         WT\n",
              "0           1  104.185353  28.762059\n",
              "1           2  105.461264  30.466833\n",
              "2           3  105.461264  30.193597\n",
              "3           4  113.461264  30.632114\n",
              "4           5  104.461264  29.889149"
            ]
          },
          "metadata": {},
          "execution_count": 150
        }
      ]
    },
    {
      "cell_type": "code",
      "metadata": {
        "colab": {
          "base_uri": "https://localhost:8080/",
          "height": 0
        },
        "id": "YGpkC7TFbxBN",
        "outputId": "7ab5abb4-95b5-4b11-93b5-0802d61c7845"
      },
      "source": [
        "Q9b=Q9_b.iloc[:,1:3]\n",
        "Q9b.head()"
      ],
      "execution_count": 151,
      "outputs": [
        {
          "output_type": "execute_result",
          "data": {
            "text/html": [
              "<div>\n",
              "<style scoped>\n",
              "    .dataframe tbody tr th:only-of-type {\n",
              "        vertical-align: middle;\n",
              "    }\n",
              "\n",
              "    .dataframe tbody tr th {\n",
              "        vertical-align: top;\n",
              "    }\n",
              "\n",
              "    .dataframe thead th {\n",
              "        text-align: right;\n",
              "    }\n",
              "</style>\n",
              "<table border=\"1\" class=\"dataframe\">\n",
              "  <thead>\n",
              "    <tr style=\"text-align: right;\">\n",
              "      <th></th>\n",
              "      <th>SP</th>\n",
              "      <th>WT</th>\n",
              "    </tr>\n",
              "  </thead>\n",
              "  <tbody>\n",
              "    <tr>\n",
              "      <th>0</th>\n",
              "      <td>104.185353</td>\n",
              "      <td>28.762059</td>\n",
              "    </tr>\n",
              "    <tr>\n",
              "      <th>1</th>\n",
              "      <td>105.461264</td>\n",
              "      <td>30.466833</td>\n",
              "    </tr>\n",
              "    <tr>\n",
              "      <th>2</th>\n",
              "      <td>105.461264</td>\n",
              "      <td>30.193597</td>\n",
              "    </tr>\n",
              "    <tr>\n",
              "      <th>3</th>\n",
              "      <td>113.461264</td>\n",
              "      <td>30.632114</td>\n",
              "    </tr>\n",
              "    <tr>\n",
              "      <th>4</th>\n",
              "      <td>104.461264</td>\n",
              "      <td>29.889149</td>\n",
              "    </tr>\n",
              "  </tbody>\n",
              "</table>\n",
              "</div>"
            ],
            "text/plain": [
              "           SP         WT\n",
              "0  104.185353  28.762059\n",
              "1  105.461264  30.466833\n",
              "2  105.461264  30.193597\n",
              "3  113.461264  30.632114\n",
              "4  104.461264  29.889149"
            ]
          },
          "metadata": {},
          "execution_count": 151
        }
      ]
    },
    {
      "cell_type": "code",
      "metadata": {
        "colab": {
          "base_uri": "https://localhost:8080/",
          "height": 0
        },
        "id": "M-TsMMj_cCaY",
        "outputId": "4e381e17-62ba-4deb-b7bc-62c185b79ae2"
      },
      "source": [
        "Q9b.describe()"
      ],
      "execution_count": 152,
      "outputs": [
        {
          "output_type": "execute_result",
          "data": {
            "text/html": [
              "<div>\n",
              "<style scoped>\n",
              "    .dataframe tbody tr th:only-of-type {\n",
              "        vertical-align: middle;\n",
              "    }\n",
              "\n",
              "    .dataframe tbody tr th {\n",
              "        vertical-align: top;\n",
              "    }\n",
              "\n",
              "    .dataframe thead th {\n",
              "        text-align: right;\n",
              "    }\n",
              "</style>\n",
              "<table border=\"1\" class=\"dataframe\">\n",
              "  <thead>\n",
              "    <tr style=\"text-align: right;\">\n",
              "      <th></th>\n",
              "      <th>SP</th>\n",
              "      <th>WT</th>\n",
              "    </tr>\n",
              "  </thead>\n",
              "  <tbody>\n",
              "    <tr>\n",
              "      <th>count</th>\n",
              "      <td>81.000000</td>\n",
              "      <td>81.000000</td>\n",
              "    </tr>\n",
              "    <tr>\n",
              "      <th>mean</th>\n",
              "      <td>121.540272</td>\n",
              "      <td>32.412577</td>\n",
              "    </tr>\n",
              "    <tr>\n",
              "      <th>std</th>\n",
              "      <td>14.181432</td>\n",
              "      <td>7.492813</td>\n",
              "    </tr>\n",
              "    <tr>\n",
              "      <th>min</th>\n",
              "      <td>99.564907</td>\n",
              "      <td>15.712859</td>\n",
              "    </tr>\n",
              "    <tr>\n",
              "      <th>25%</th>\n",
              "      <td>113.829145</td>\n",
              "      <td>29.591768</td>\n",
              "    </tr>\n",
              "    <tr>\n",
              "      <th>50%</th>\n",
              "      <td>118.208698</td>\n",
              "      <td>32.734518</td>\n",
              "    </tr>\n",
              "    <tr>\n",
              "      <th>75%</th>\n",
              "      <td>126.404312</td>\n",
              "      <td>37.392524</td>\n",
              "    </tr>\n",
              "    <tr>\n",
              "      <th>max</th>\n",
              "      <td>169.598513</td>\n",
              "      <td>52.997752</td>\n",
              "    </tr>\n",
              "  </tbody>\n",
              "</table>\n",
              "</div>"
            ],
            "text/plain": [
              "               SP         WT\n",
              "count   81.000000  81.000000\n",
              "mean   121.540272  32.412577\n",
              "std     14.181432   7.492813\n",
              "min     99.564907  15.712859\n",
              "25%    113.829145  29.591768\n",
              "50%    118.208698  32.734518\n",
              "75%    126.404312  37.392524\n",
              "max    169.598513  52.997752"
            ]
          },
          "metadata": {},
          "execution_count": 152
        }
      ]
    },
    {
      "cell_type": "code",
      "metadata": {
        "colab": {
          "base_uri": "https://localhost:8080/"
        },
        "id": "W_78sgbfcG4S",
        "outputId": "45474d54-9a47-4d8c-aa29-81e877680e05"
      },
      "source": [
        "Q9b.skew()"
      ],
      "execution_count": 153,
      "outputs": [
        {
          "output_type": "execute_result",
          "data": {
            "text/plain": [
              "SP    1.611450\n",
              "WT   -0.614753\n",
              "dtype: float64"
            ]
          },
          "metadata": {},
          "execution_count": 153
        }
      ]
    },
    {
      "cell_type": "code",
      "metadata": {
        "colab": {
          "base_uri": "https://localhost:8080/"
        },
        "id": "a_LUosdlcKSb",
        "outputId": "6cdd69ae-1a9c-477b-82d4-c1b036e7da82"
      },
      "source": [
        "Q9b.kurtosis()"
      ],
      "execution_count": 154,
      "outputs": [
        {
          "output_type": "execute_result",
          "data": {
            "text/plain": [
              "SP    2.977329\n",
              "WT    0.950291\n",
              "dtype: float64"
            ]
          },
          "metadata": {},
          "execution_count": 154
        }
      ]
    },
    {
      "cell_type": "code",
      "metadata": {
        "colab": {
          "base_uri": "https://localhost:8080/",
          "height": 0
        },
        "id": "5MbibFx9cNoQ",
        "outputId": "2e3d53d5-1825-4f2f-bb0a-e6cb2958b539"
      },
      "source": [
        "sns.jointplot(x=\"SP\", y=\"WT\",data=Q9b,)"
      ],
      "execution_count": 155,
      "outputs": [
        {
          "output_type": "execute_result",
          "data": {
            "text/plain": [
              "<seaborn.axisgrid.JointGrid at 0x7f1bf8313b10>"
            ]
          },
          "metadata": {},
          "execution_count": 155
        },
        {
          "output_type": "display_data",
          "data": {
            "image/png": "[encoded data removed]",
            "text/plain": [
              "<Figure size 432x432 with 3 Axes>"
            ]
          },
          "metadata": {
            "needs_background": "light"
          }
        }
      ]
    },
    {
      "cell_type": "code",
      "metadata": {
        "colab": {
          "base_uri": "https://localhost:8080/",
          "height": 0
        },
        "id": "dqj3h1_YcQAm",
        "outputId": "f59820e5-aaf9-4201-9ecc-6b61bba36dbc"
      },
      "source": [
        "sns.jointplot(x='SP', y=\"WT\", data=Q9b,kind='kde')"
      ],
      "execution_count": 156,
      "outputs": [
        {
          "output_type": "execute_result",
          "data": {
            "text/plain": [
              "<seaborn.axisgrid.JointGrid at 0x7f1bf81d2350>"
            ]
          },
          "metadata": {},
          "execution_count": 156
        },
        {
          "output_type": "display_data",
          "data": {
            "image/png": "[encoded data removed]",
            "text/plain": [
              "<Figure size 432x432 with 3 Axes>"
            ]
          },
          "metadata": {
            "needs_background": "light"
          }
        }
      ]
    },
    {
      "cell_type": "code",
      "metadata": {
        "colab": {
          "base_uri": "https://localhost:8080/",
          "height": 0
        },
        "id": "L9G0FgKmcz8K",
        "outputId": "73526417-5f4d-429b-8a7e-eec030b2e318"
      },
      "source": [
        "sns.pairplot(Q9b)"
      ],
      "execution_count": 157,
      "outputs": [
        {
          "output_type": "execute_result",
          "data": {
            "text/plain": [
              "<seaborn.axisgrid.PairGrid at 0x7f1bf82044d0>"
            ]
          },
          "metadata": {},
          "execution_count": 157
        },
        {
          "output_type": "display_data",
          "data": {
            "image/png": "[encoded data removed]",
            "text/plain": [
              "<Figure size 360x360 with 6 Axes>"
            ]
          },
          "metadata": {
            "needs_background": "light"
          }
        }
      ]
    },
    {
      "cell_type": "code",
      "metadata": {
        "colab": {
          "base_uri": "https://localhost:8080/",
          "height": 0
        },
        "id": "Rp8y5Bmsc7Lf",
        "outputId": "86ba039a-4e73-4715-e5ea-ebd3dde2c62b"
      },
      "source": [
        "sns.distplot(Q9b\n",
        "             )"
      ],
      "execution_count": 158,
      "outputs": [
        {
          "output_type": "stream",
          "name": "stderr",
          "text": [
            "/usr/local/lib/python3.7/dist-packages/seaborn/distributions.py:2619: FutureWarning: `distplot` is a deprecated function and will be removed in a future version. Please adapt your code to use either `displot` (a figure-level function with similar flexibility) or `histplot` (an axes-level function for histograms).\n",
            "  warnings.warn(msg, FutureWarning)\n"
          ]
        },
        {
          "output_type": "execute_result",
          "data": {
            "text/plain": [
              "<matplotlib.axes._subplots.AxesSubplot at 0x7f1bf7e59750>"
            ]
          },
          "metadata": {},
          "execution_count": 158
        },
        {
          "output_type": "display_data",
          "data": {
            "image/png": "[encoded data removed]",
            "text/plain": [
              "<Figure size 432x288 with 1 Axes>"
            ]
          },
          "metadata": {
            "needs_background": "light"
          }
        }
      ]
    },
    {
      "cell_type": "code",
      "metadata": {
        "colab": {
          "base_uri": "https://localhost:8080/",
          "height": 0
        },
        "id": "I9XrhwavdPGW",
        "outputId": "a60a4e75-1843-4ce3-c9a3-80ade11edb61"
      },
      "source": [
        "sns.histplot(Q9b['SP']\n",
        "             )"
      ],
      "execution_count": 159,
      "outputs": [
        {
          "output_type": "execute_result",
          "data": {
            "text/plain": [
              "<matplotlib.axes._subplots.AxesSubplot at 0x7f1bf7dea310>"
            ]
          },
          "metadata": {},
          "execution_count": 159
        },
        {
          "output_type": "display_data",
          "data": {
            "image/png": "[encoded data removed]",
            "text/plain": [
              "<Figure size 432x288 with 1 Axes>"
            ]
          },
          "metadata": {
            "needs_background": "light"
          }
        }
      ]
    },
    {
      "cell_type": "code",
      "metadata": {
        "colab": {
          "base_uri": "https://localhost:8080/",
          "height": 0
        },
        "id": "FWni-iWghDxc",
        "outputId": "6f9b8d3e-8180-4ee6-a8c4-4d32fbe5b4ef"
      },
      "source": [
        "sns.histplot(Q9b['WT'])"
      ],
      "execution_count": 160,
      "outputs": [
        {
          "output_type": "execute_result",
          "data": {
            "text/plain": [
              "<matplotlib.axes._subplots.AxesSubplot at 0x7f1bf7d07c50>"
            ]
          },
          "metadata": {},
          "execution_count": 160
        },
        {
          "output_type": "display_data",
          "data": {
            "image/png": "[encoded data removed]",
            "text/plain": [
              "<Figure size 432x288 with 1 Axes>"
            ]
          },
          "metadata": {
            "needs_background": "light"
          }
        }
      ]
    },
    {
      "cell_type": "code",
      "metadata": {
        "colab": {
          "base_uri": "https://localhost:8080/",
          "height": 0
        },
        "id": "eUAUt7iqh7kC",
        "outputId": "b2883424-2fc8-4652-d952-ef59bb3052ee"
      },
      "source": [
        "plt.boxplot(Q9b['SP'])"
      ],
      "execution_count": 161,
      "outputs": [
        {
          "output_type": "execute_result",
          "data": {
            "text/plain": [
              "{'boxes': [<matplotlib.lines.Line2D at 0x7f1bf7cacf10>],\n",
              " 'caps': [<matplotlib.lines.Line2D at 0x7f1bf7c35f50>,\n",
              "  <matplotlib.lines.Line2D at 0x7f1bf7c3d4d0>],\n",
              " 'fliers': [<matplotlib.lines.Line2D at 0x7f1bf7c3df90>],\n",
              " 'means': [],\n",
              " 'medians': [<matplotlib.lines.Line2D at 0x7f1bf7c3da50>],\n",
              " 'whiskers': [<matplotlib.lines.Line2D at 0x7f1bf7c354d0>,\n",
              "  <matplotlib.lines.Line2D at 0x7f1bf7c35a10>]}"
            ]
          },
          "metadata": {},
          "execution_count": 161
        },
        {
          "output_type": "display_data",
          "data": {
            "image/png": "[encoded data removed]",
            "text/plain": [
              "<Figure size 432x288 with 1 Axes>"
            ]
          },
          "metadata": {
            "needs_background": "light"
          }
        }
      ]
    },
    {
      "cell_type": "code",
      "metadata": {
        "colab": {
          "base_uri": "https://localhost:8080/",
          "height": 0
        },
        "id": "Zxwd3H2CjRcz",
        "outputId": "8cbc383d-cb18-41be-aa90-fb6b329f0cc8"
      },
      "source": [
        "plt.boxplot(Q9b['WT'])"
      ],
      "execution_count": 162,
      "outputs": [
        {
          "output_type": "execute_result",
          "data": {
            "text/plain": [
              "{'boxes': [<matplotlib.lines.Line2D at 0x7f1bf7c23a90>],\n",
              " 'caps': [<matplotlib.lines.Line2D at 0x7f1bf7c26ad0>,\n",
              "  <matplotlib.lines.Line2D at 0x7f1bf7c2e050>],\n",
              " 'fliers': [<matplotlib.lines.Line2D at 0x7f1bf7c2eb10>],\n",
              " 'means': [],\n",
              " 'medians': [<matplotlib.lines.Line2D at 0x7f1bf7c2e5d0>],\n",
              " 'whiskers': [<matplotlib.lines.Line2D at 0x7f1bf7c26050>,\n",
              "  <matplotlib.lines.Line2D at 0x7f1bf7c26590>]}"
            ]
          },
          "metadata": {},
          "execution_count": 162
        },
        {
          "output_type": "display_data",
          "data": {
            "image/png": "[encoded data removed]",
            "text/plain": [
              "<Figure size 432x288 with 1 Axes>"
            ]
          },
          "metadata": {
            "needs_background": "light"
          }
        }
      ]
    },
    {
      "cell_type": "markdown",
      "metadata": {
        "id": "WbfKqyjXja6d"
      },
      "source": [
        "Comments: \n",
        "\n",
        "Skewness: Positive Skewness implies a Right Skewed Distribution and a \n",
        "Negative Skewness Implies a Left Skewed Distribution.\n",
        "\n",
        "Kurtosis:larger the Kurtosis, the more peaked will be the Distribution.\n",
        "\n",
        "Above Hist Indicate tha the data has some outliers which needs to be \n",
        "Treated."
      ]
    },
    {
      "cell_type": "markdown",
      "metadata": {
        "id": "JU7kf-KnpCWE"
      },
      "source": [
        "#Question number 11"
      ]
    },
    {
      "cell_type": "code",
      "metadata": {
        "id": "8DFTHODTjUxY"
      },
      "source": [
        "from scipy import stats\n",
        "import numpy as np\n"
      ],
      "execution_count": 163,
      "outputs": []
    },
    {
      "cell_type": "code",
      "metadata": {
        "colab": {
          "base_uri": "https://localhost:8080/"
        },
        "id": "1YHs0Vc2ce1f",
        "outputId": "0f0ecdb0-80ac-4fb1-bba8-347e85bf9ee6"
      },
      "source": [
        "CI94=stats.t.ppf(0.94, df=1999)    \n",
        "CI94"
      ],
      "execution_count": 164,
      "outputs": [
        {
          "output_type": "execute_result",
          "data": {
            "text/plain": [
              "1.555438359300462"
            ]
          },
          "metadata": {},
          "execution_count": 164
        }
      ]
    },
    {
      "cell_type": "code",
      "metadata": {
        "colab": {
          "base_uri": "https://localhost:8080/"
        },
        "id": "JlabNm_fc2Or",
        "outputId": "384b1c8a-dc08-4ff6-ad03-83f8fc9e5c17"
      },
      "source": [
        "CI96=stats.t.ppf(0.96, df=1999)\n",
        "CI96"
      ],
      "execution_count": 165,
      "outputs": [
        {
          "output_type": "execute_result",
          "data": {
            "text/plain": [
              "1.7515765141030553"
            ]
          },
          "metadata": {},
          "execution_count": 165
        }
      ]
    },
    {
      "cell_type": "code",
      "metadata": {
        "colab": {
          "base_uri": "https://localhost:8080/"
        },
        "id": "6xWUZijBctWD",
        "outputId": "a4eb22d1-63dc-4373-e1e9-f4c3d0e3abfa"
      },
      "source": [
        "CI98=stats.t.ppf(0.98, df=1999)\n",
        "CI98"
      ],
      "execution_count": 166,
      "outputs": [
        {
          "output_type": "execute_result",
          "data": {
            "text/plain": [
              "2.055089962825778"
            ]
          },
          "metadata": {},
          "execution_count": 166
        }
      ]
    },
    {
      "cell_type": "code",
      "metadata": {
        "colab": {
          "base_uri": "https://localhost:8080/"
        },
        "id": "_sJzGDWpc3Y2",
        "outputId": "f353f292-07c5-4193-b98c-e399ebff0ce6"
      },
      "source": [
        "test=stats.t.ppf(0.95, df=139)\n",
        "test"
      ],
      "execution_count": 167,
      "outputs": [
        {
          "output_type": "execute_result",
          "data": {
            "text/plain": [
              "1.6558898677725957"
            ]
          },
          "metadata": {},
          "execution_count": 167
        }
      ]
    },
    {
      "cell_type": "code",
      "metadata": {
        "colab": {
          "base_uri": "https://localhost:8080/"
        },
        "id": "j82JuYmzkikl",
        "outputId": "9f9bd591-6ab8-4649-e2ef-5168f5026a45"
      },
      "source": [
        "for_94=stats.norm.interval(0.94,200,30)\n",
        "print(\"Weight at 94% Confidence is: \",np.round(for_94,4))"
      ],
      "execution_count": 168,
      "outputs": [
        {
          "output_type": "stream",
          "name": "stdout",
          "text": [
            "Weight at 94% Confidence is:  [143.5762 256.4238]\n"
          ]
        }
      ]
    },
    {
      "cell_type": "code",
      "metadata": {
        "colab": {
          "base_uri": "https://localhost:8080/"
        },
        "id": "FAvJHZFNpwwG",
        "outputId": "4223776a-2080-4917-c6e0-6a73da5a4d78"
      },
      "source": [
        "for_96=stats.norm.interval(0.96,200,30)\n",
        "print(\"Weight at 96% Confidence is: \",np.round(for_96,4))"
      ],
      "execution_count": 169,
      "outputs": [
        {
          "output_type": "stream",
          "name": "stdout",
          "text": [
            "Weight at 96% Confidence is:  [138.3875 261.6125]\n"
          ]
        }
      ]
    },
    {
      "cell_type": "code",
      "metadata": {
        "colab": {
          "base_uri": "https://localhost:8080/"
        },
        "id": "mUTeUi6zqGll",
        "outputId": "aa936215-9a11-4041-e6d1-97821a609dc2"
      },
      "source": [
        "for_98=stats.norm.interval(0.98,200,30)\n",
        "print(\"Weight at 98% Confidence is: \",np.round(for_98,4))"
      ],
      "execution_count": 170,
      "outputs": [
        {
          "output_type": "stream",
          "name": "stdout",
          "text": [
            "Weight at 98% Confidence is:  [130.2096 269.7904]\n"
          ]
        }
      ]
    },
    {
      "cell_type": "code",
      "metadata": {
        "id": "eItB2Hpbk9Px"
      },
      "source": [
        ""
      ],
      "execution_count": 170,
      "outputs": []
    },
    {
      "cell_type": "markdown",
      "metadata": {
        "id": "FtZwKTVsrJUE"
      },
      "source": [
        "# Question number 12"
      ]
    },
    {
      "cell_type": "code",
      "metadata": {
        "id": "wsjBlRDirlWx"
      },
      "source": [
        "import pandas as pd"
      ],
      "execution_count": 171,
      "outputs": []
    },
    {
      "cell_type": "code",
      "metadata": {
        "id": "9WQUEYgHqMye"
      },
      "source": [
        "x=([34,36,36,38,38,39,39,40,40,41,41,41,41,42,42,45,49,56])"
      ],
      "execution_count": 172,
      "outputs": []
    },
    {
      "cell_type": "code",
      "metadata": {
        "id": "xaDOW47CrSOg"
      },
      "source": [
        "df=pd.DataFrame(x, columns=['var'])"
      ],
      "execution_count": 173,
      "outputs": []
    },
    {
      "cell_type": "code",
      "metadata": {
        "colab": {
          "base_uri": "https://localhost:8080/",
          "height": 0
        },
        "id": "hXl8uShorVFR",
        "outputId": "5132edec-0ef5-4f16-936f-b8b6021ce960"
      },
      "source": [
        "df.head()"
      ],
      "execution_count": 174,
      "outputs": [
        {
          "output_type": "execute_result",
          "data": {
            "text/html": [
              "<div>\n",
              "<style scoped>\n",
              "    .dataframe tbody tr th:only-of-type {\n",
              "        vertical-align: middle;\n",
              "    }\n",
              "\n",
              "    .dataframe tbody tr th {\n",
              "        vertical-align: top;\n",
              "    }\n",
              "\n",
              "    .dataframe thead th {\n",
              "        text-align: right;\n",
              "    }\n",
              "</style>\n",
              "<table border=\"1\" class=\"dataframe\">\n",
              "  <thead>\n",
              "    <tr style=\"text-align: right;\">\n",
              "      <th></th>\n",
              "      <th>var</th>\n",
              "    </tr>\n",
              "  </thead>\n",
              "  <tbody>\n",
              "    <tr>\n",
              "      <th>0</th>\n",
              "      <td>34</td>\n",
              "    </tr>\n",
              "    <tr>\n",
              "      <th>1</th>\n",
              "      <td>36</td>\n",
              "    </tr>\n",
              "    <tr>\n",
              "      <th>2</th>\n",
              "      <td>36</td>\n",
              "    </tr>\n",
              "    <tr>\n",
              "      <th>3</th>\n",
              "      <td>38</td>\n",
              "    </tr>\n",
              "    <tr>\n",
              "      <th>4</th>\n",
              "      <td>38</td>\n",
              "    </tr>\n",
              "  </tbody>\n",
              "</table>\n",
              "</div>"
            ],
            "text/plain": [
              "   var\n",
              "0   34\n",
              "1   36\n",
              "2   36\n",
              "3   38\n",
              "4   38"
            ]
          },
          "metadata": {},
          "execution_count": 174
        }
      ]
    },
    {
      "cell_type": "code",
      "metadata": {
        "colab": {
          "base_uri": "https://localhost:8080/",
          "height": 0
        },
        "id": "aRlnUorSurAh",
        "outputId": "3c3b5361-c39d-4287-b66e-8479347319ee"
      },
      "source": [
        "cal=df.describe()\n",
        "cal"
      ],
      "execution_count": 175,
      "outputs": [
        {
          "output_type": "execute_result",
          "data": {
            "text/html": [
              "<div>\n",
              "<style scoped>\n",
              "    .dataframe tbody tr th:only-of-type {\n",
              "        vertical-align: middle;\n",
              "    }\n",
              "\n",
              "    .dataframe tbody tr th {\n",
              "        vertical-align: top;\n",
              "    }\n",
              "\n",
              "    .dataframe thead th {\n",
              "        text-align: right;\n",
              "    }\n",
              "</style>\n",
              "<table border=\"1\" class=\"dataframe\">\n",
              "  <thead>\n",
              "    <tr style=\"text-align: right;\">\n",
              "      <th></th>\n",
              "      <th>var</th>\n",
              "    </tr>\n",
              "  </thead>\n",
              "  <tbody>\n",
              "    <tr>\n",
              "      <th>count</th>\n",
              "      <td>18.000000</td>\n",
              "    </tr>\n",
              "    <tr>\n",
              "      <th>mean</th>\n",
              "      <td>41.000000</td>\n",
              "    </tr>\n",
              "    <tr>\n",
              "      <th>std</th>\n",
              "      <td>5.052664</td>\n",
              "    </tr>\n",
              "    <tr>\n",
              "      <th>min</th>\n",
              "      <td>34.000000</td>\n",
              "    </tr>\n",
              "    <tr>\n",
              "      <th>25%</th>\n",
              "      <td>38.250000</td>\n",
              "    </tr>\n",
              "    <tr>\n",
              "      <th>50%</th>\n",
              "      <td>40.500000</td>\n",
              "    </tr>\n",
              "    <tr>\n",
              "      <th>75%</th>\n",
              "      <td>41.750000</td>\n",
              "    </tr>\n",
              "    <tr>\n",
              "      <th>max</th>\n",
              "      <td>56.000000</td>\n",
              "    </tr>\n",
              "  </tbody>\n",
              "</table>\n",
              "</div>"
            ],
            "text/plain": [
              "             var\n",
              "count  18.000000\n",
              "mean   41.000000\n",
              "std     5.052664\n",
              "min    34.000000\n",
              "25%    38.250000\n",
              "50%    40.500000\n",
              "75%    41.750000\n",
              "max    56.000000"
            ]
          },
          "metadata": {},
          "execution_count": 175
        }
      ]
    },
    {
      "cell_type": "code",
      "metadata": {
        "colab": {
          "base_uri": "https://localhost:8080/",
          "height": 0
        },
        "id": "LXHUlpNQuttg",
        "outputId": "62fd215c-71f5-4b45-d700-12ff7391877f"
      },
      "source": [
        "cal.transpose()"
      ],
      "execution_count": 176,
      "outputs": [
        {
          "output_type": "execute_result",
          "data": {
            "text/html": [
              "<div>\n",
              "<style scoped>\n",
              "    .dataframe tbody tr th:only-of-type {\n",
              "        vertical-align: middle;\n",
              "    }\n",
              "\n",
              "    .dataframe tbody tr th {\n",
              "        vertical-align: top;\n",
              "    }\n",
              "\n",
              "    .dataframe thead th {\n",
              "        text-align: right;\n",
              "    }\n",
              "</style>\n",
              "<table border=\"1\" class=\"dataframe\">\n",
              "  <thead>\n",
              "    <tr style=\"text-align: right;\">\n",
              "      <th></th>\n",
              "      <th>count</th>\n",
              "      <th>mean</th>\n",
              "      <th>std</th>\n",
              "      <th>min</th>\n",
              "      <th>25%</th>\n",
              "      <th>50%</th>\n",
              "      <th>75%</th>\n",
              "      <th>max</th>\n",
              "    </tr>\n",
              "  </thead>\n",
              "  <tbody>\n",
              "    <tr>\n",
              "      <th>var</th>\n",
              "      <td>18.0</td>\n",
              "      <td>41.0</td>\n",
              "      <td>5.052664</td>\n",
              "      <td>34.0</td>\n",
              "      <td>38.25</td>\n",
              "      <td>40.5</td>\n",
              "      <td>41.75</td>\n",
              "      <td>56.0</td>\n",
              "    </tr>\n",
              "  </tbody>\n",
              "</table>\n",
              "</div>"
            ],
            "text/plain": [
              "     count  mean       std   min    25%   50%    75%   max\n",
              "var   18.0  41.0  5.052664  34.0  38.25  40.5  41.75  56.0"
            ]
          },
          "metadata": {},
          "execution_count": 176
        }
      ]
    },
    {
      "cell_type": "code",
      "metadata": {
        "colab": {
          "base_uri": "https://localhost:8080/"
        },
        "id": "RE5PeUTUvGHm",
        "outputId": "743b26ac-8ecb-455c-ae9b-31eeecf5a43e"
      },
      "source": [
        "variance=cal.iloc[2]**2\n",
        "variance"
      ],
      "execution_count": 177,
      "outputs": [
        {
          "output_type": "execute_result",
          "data": {
            "text/plain": [
              "var    25.529412\n",
              "Name: std, dtype: float64"
            ]
          },
          "metadata": {},
          "execution_count": 177
        }
      ]
    },
    {
      "cell_type": "code",
      "metadata": {
        "colab": {
          "base_uri": "https://localhost:8080/",
          "height": 0
        },
        "id": "9Dr7Spwxv-sT",
        "outputId": "6c084c73-a028-42e6-919f-a4120d118bad"
      },
      "source": [
        "sns.distplot(df\n",
        "             )"
      ],
      "execution_count": 178,
      "outputs": [
        {
          "output_type": "stream",
          "name": "stderr",
          "text": [
            "/usr/local/lib/python3.7/dist-packages/seaborn/distributions.py:2619: FutureWarning: `distplot` is a deprecated function and will be removed in a future version. Please adapt your code to use either `displot` (a figure-level function with similar flexibility) or `histplot` (an axes-level function for histograms).\n",
            "  warnings.warn(msg, FutureWarning)\n"
          ]
        },
        {
          "output_type": "execute_result",
          "data": {
            "text/plain": [
              "<matplotlib.axes._subplots.AxesSubplot at 0x7f1bf7b7b450>"
            ]
          },
          "metadata": {},
          "execution_count": 178
        },
        {
          "output_type": "display_data",
          "data": {
            "image/png": "[encoded data removed]",
            "text/plain": [
              "<Figure size 432x288 with 1 Axes>"
            ]
          },
          "metadata": {
            "needs_background": "light"
          }
        }
      ]
    },
    {
      "cell_type": "markdown",
      "metadata": {
        "id": "UCPQo_DSw1ru"
      },
      "source": [
        "Comments:\n",
        "\n",
        "Most of the Students have scored in between 34 to 46"
      ]
    },
    {
      "cell_type": "code",
      "metadata": {
        "id": "h09J7fdUwDAk"
      },
      "source": [
        ""
      ],
      "execution_count": 178,
      "outputs": []
    },
    {
      "cell_type": "markdown",
      "metadata": {
        "id": "oLIkQc_ilAcu"
      },
      "source": [
        "#Question number 20"
      ]
    },
    {
      "cell_type": "code",
      "metadata": {
        "colab": {
          "base_uri": "https://localhost:8080/",
          "height": 0
        },
        "id": "vXFovr-QlIt_",
        "outputId": "e08c327c-c7ca-4726-e600-8ed25fcb3947"
      },
      "source": [
        "cars=pd.read_csv('/content/Cars.csv')\n",
        "cars.head()"
      ],
      "execution_count": 179,
      "outputs": [
        {
          "output_type": "execute_result",
          "data": {
            "text/html": [
              "<div>\n",
              "<style scoped>\n",
              "    .dataframe tbody tr th:only-of-type {\n",
              "        vertical-align: middle;\n",
              "    }\n",
              "\n",
              "    .dataframe tbody tr th {\n",
              "        vertical-align: top;\n",
              "    }\n",
              "\n",
              "    .dataframe thead th {\n",
              "        text-align: right;\n",
              "    }\n",
              "</style>\n",
              "<table border=\"1\" class=\"dataframe\">\n",
              "  <thead>\n",
              "    <tr style=\"text-align: right;\">\n",
              "      <th></th>\n",
              "      <th>HP</th>\n",
              "      <th>MPG</th>\n",
              "      <th>VOL</th>\n",
              "      <th>SP</th>\n",
              "      <th>WT</th>\n",
              "    </tr>\n",
              "  </thead>\n",
              "  <tbody>\n",
              "    <tr>\n",
              "      <th>0</th>\n",
              "      <td>49</td>\n",
              "      <td>53.700681</td>\n",
              "      <td>89</td>\n",
              "      <td>104.185353</td>\n",
              "      <td>28.762059</td>\n",
              "    </tr>\n",
              "    <tr>\n",
              "      <th>1</th>\n",
              "      <td>55</td>\n",
              "      <td>50.013401</td>\n",
              "      <td>92</td>\n",
              "      <td>105.461264</td>\n",
              "      <td>30.466833</td>\n",
              "    </tr>\n",
              "    <tr>\n",
              "      <th>2</th>\n",
              "      <td>55</td>\n",
              "      <td>50.013401</td>\n",
              "      <td>92</td>\n",
              "      <td>105.461264</td>\n",
              "      <td>30.193597</td>\n",
              "    </tr>\n",
              "    <tr>\n",
              "      <th>3</th>\n",
              "      <td>70</td>\n",
              "      <td>45.696322</td>\n",
              "      <td>92</td>\n",
              "      <td>113.461264</td>\n",
              "      <td>30.632114</td>\n",
              "    </tr>\n",
              "    <tr>\n",
              "      <th>4</th>\n",
              "      <td>53</td>\n",
              "      <td>50.504232</td>\n",
              "      <td>92</td>\n",
              "      <td>104.461264</td>\n",
              "      <td>29.889149</td>\n",
              "    </tr>\n",
              "  </tbody>\n",
              "</table>\n",
              "</div>"
            ],
            "text/plain": [
              "   HP        MPG  VOL          SP         WT\n",
              "0  49  53.700681   89  104.185353  28.762059\n",
              "1  55  50.013401   92  105.461264  30.466833\n",
              "2  55  50.013401   92  105.461264  30.193597\n",
              "3  70  45.696322   92  113.461264  30.632114\n",
              "4  53  50.504232   92  104.461264  29.889149"
            ]
          },
          "metadata": {},
          "execution_count": 179
        }
      ]
    },
    {
      "cell_type": "code",
      "metadata": {
        "colab": {
          "base_uri": "https://localhost:8080/",
          "height": 0
        },
        "id": "DmqlAOYElxO_",
        "outputId": "45205771-adf0-434b-fdb6-a0b7a13a090b"
      },
      "source": [
        "des=cars.describe()\n",
        "des"
      ],
      "execution_count": 180,
      "outputs": [
        {
          "output_type": "execute_result",
          "data": {
            "text/html": [
              "<div>\n",
              "<style scoped>\n",
              "    .dataframe tbody tr th:only-of-type {\n",
              "        vertical-align: middle;\n",
              "    }\n",
              "\n",
              "    .dataframe tbody tr th {\n",
              "        vertical-align: top;\n",
              "    }\n",
              "\n",
              "    .dataframe thead th {\n",
              "        text-align: right;\n",
              "    }\n",
              "</style>\n",
              "<table border=\"1\" class=\"dataframe\">\n",
              "  <thead>\n",
              "    <tr style=\"text-align: right;\">\n",
              "      <th></th>\n",
              "      <th>HP</th>\n",
              "      <th>MPG</th>\n",
              "      <th>VOL</th>\n",
              "      <th>SP</th>\n",
              "      <th>WT</th>\n",
              "    </tr>\n",
              "  </thead>\n",
              "  <tbody>\n",
              "    <tr>\n",
              "      <th>count</th>\n",
              "      <td>81.000000</td>\n",
              "      <td>81.000000</td>\n",
              "      <td>81.000000</td>\n",
              "      <td>81.000000</td>\n",
              "      <td>81.000000</td>\n",
              "    </tr>\n",
              "    <tr>\n",
              "      <th>mean</th>\n",
              "      <td>117.469136</td>\n",
              "      <td>34.422076</td>\n",
              "      <td>98.765432</td>\n",
              "      <td>121.540272</td>\n",
              "      <td>32.412577</td>\n",
              "    </tr>\n",
              "    <tr>\n",
              "      <th>std</th>\n",
              "      <td>57.113502</td>\n",
              "      <td>9.131445</td>\n",
              "      <td>22.301497</td>\n",
              "      <td>14.181432</td>\n",
              "      <td>7.492813</td>\n",
              "    </tr>\n",
              "    <tr>\n",
              "      <th>min</th>\n",
              "      <td>49.000000</td>\n",
              "      <td>12.101263</td>\n",
              "      <td>50.000000</td>\n",
              "      <td>99.564907</td>\n",
              "      <td>15.712859</td>\n",
              "    </tr>\n",
              "    <tr>\n",
              "      <th>25%</th>\n",
              "      <td>84.000000</td>\n",
              "      <td>27.856252</td>\n",
              "      <td>89.000000</td>\n",
              "      <td>113.829145</td>\n",
              "      <td>29.591768</td>\n",
              "    </tr>\n",
              "    <tr>\n",
              "      <th>50%</th>\n",
              "      <td>100.000000</td>\n",
              "      <td>35.152727</td>\n",
              "      <td>101.000000</td>\n",
              "      <td>118.208698</td>\n",
              "      <td>32.734518</td>\n",
              "    </tr>\n",
              "    <tr>\n",
              "      <th>75%</th>\n",
              "      <td>140.000000</td>\n",
              "      <td>39.531633</td>\n",
              "      <td>113.000000</td>\n",
              "      <td>126.404312</td>\n",
              "      <td>37.392524</td>\n",
              "    </tr>\n",
              "    <tr>\n",
              "      <th>max</th>\n",
              "      <td>322.000000</td>\n",
              "      <td>53.700681</td>\n",
              "      <td>160.000000</td>\n",
              "      <td>169.598513</td>\n",
              "      <td>52.997752</td>\n",
              "    </tr>\n",
              "  </tbody>\n",
              "</table>\n",
              "</div>"
            ],
            "text/plain": [
              "               HP        MPG         VOL          SP         WT\n",
              "count   81.000000  81.000000   81.000000   81.000000  81.000000\n",
              "mean   117.469136  34.422076   98.765432  121.540272  32.412577\n",
              "std     57.113502   9.131445   22.301497   14.181432   7.492813\n",
              "min     49.000000  12.101263   50.000000   99.564907  15.712859\n",
              "25%     84.000000  27.856252   89.000000  113.829145  29.591768\n",
              "50%    100.000000  35.152727  101.000000  118.208698  32.734518\n",
              "75%    140.000000  39.531633  113.000000  126.404312  37.392524\n",
              "max    322.000000  53.700681  160.000000  169.598513  52.997752"
            ]
          },
          "metadata": {},
          "execution_count": 180
        }
      ]
    },
    {
      "cell_type": "code",
      "metadata": {
        "id": "3xqChNl3qO-P"
      },
      "source": [
        "from scipy import stats\n"
      ],
      "execution_count": 181,
      "outputs": []
    },
    {
      "cell_type": "code",
      "metadata": {
        "colab": {
          "base_uri": "https://localhost:8080/"
        },
        "id": "2CzcJiSorKfF",
        "outputId": "0891e6b7-aa12-4715-8070-d5f1d455cfae"
      },
      "source": [
        "des.iloc[2,1]"
      ],
      "execution_count": 182,
      "outputs": [
        {
          "output_type": "execute_result",
          "data": {
            "text/plain": [
              "9.131444731795982"
            ]
          },
          "metadata": {},
          "execution_count": 182
        }
      ]
    },
    {
      "cell_type": "code",
      "metadata": {
        "colab": {
          "base_uri": "https://localhost:8080/",
          "height": 0
        },
        "id": "HTx7CU8OrdPr",
        "outputId": "0ca0e6b1-66ce-444f-b030-999c0043eead"
      },
      "source": [
        "sns.distplot(cars.iloc[:,1])"
      ],
      "execution_count": 183,
      "outputs": [
        {
          "output_type": "stream",
          "name": "stderr",
          "text": [
            "/usr/local/lib/python3.7/dist-packages/seaborn/distributions.py:2619: FutureWarning: `distplot` is a deprecated function and will be removed in a future version. Please adapt your code to use either `displot` (a figure-level function with similar flexibility) or `histplot` (an axes-level function for histograms).\n",
            "  warnings.warn(msg, FutureWarning)\n"
          ]
        },
        {
          "output_type": "execute_result",
          "data": {
            "text/plain": [
              "<matplotlib.axes._subplots.AxesSubplot at 0x7f1bf7af5250>"
            ]
          },
          "metadata": {},
          "execution_count": 183
        },
        {
          "output_type": "display_data",
          "data": {
            "image/png": "[encoded data removed]",
            "text/plain": [
              "<Figure size 432x288 with 1 Axes>"
            ]
          },
          "metadata": {
            "needs_background": "light"
          }
        }
      ]
    },
    {
      "cell_type": "code",
      "metadata": {
        "colab": {
          "base_uri": "https://localhost:8080/"
        },
        "id": "EVPAnPyEqikG",
        "outputId": "cccbe7f1-1c2d-4d65-947d-8509fe7a96bb"
      },
      "source": [
        "# for P(mpg>38) as it is asking for prop\n",
        "print(\"Probability of Mpg cars for P(mpg>38) is :\",1-stats.norm.cdf(38,loc=des.iloc[1,1],scale=des.iloc[2,1] ))"
      ],
      "execution_count": 184,
      "outputs": [
        {
          "output_type": "stream",
          "name": "stdout",
          "text": [
            "Probability of Mpg cars for P(mpg>38) is : 0.3475939251582705\n"
          ]
        }
      ]
    },
    {
      "cell_type": "code",
      "metadata": {
        "colab": {
          "base_uri": "https://localhost:8080/"
        },
        "id": "KU94J0YkywUM",
        "outputId": "5c9ffe82-2496-41d9-fc92-0a14a6c4d6e1"
      },
      "source": [
        "#for p(mpg<40) as it is asking for prop\n",
        "print(\"Probability of Mpg cars for P(mpg<40) is :\",stats.norm.cdf(40,loc=des.iloc[1,1],scale=des.iloc[2,1] ))"
      ],
      "execution_count": 185,
      "outputs": [
        {
          "output_type": "stream",
          "name": "stdout",
          "text": [
            "Probability of Mpg cars for P(mpg<40) is : 0.7293498762151616\n"
          ]
        }
      ]
    },
    {
      "cell_type": "code",
      "metadata": {
        "colab": {
          "base_uri": "https://localhost:8080/"
        },
        "id": "EXtCE3ji5IWb",
        "outputId": "5b0bfb48-6831-4127-f42d-8d045339f378"
      },
      "source": [
        "# for P(mpg<20) as it is asking for prop\n",
        "stats.norm.cdf(20,loc=des.iloc[1,1],scale=des.iloc[2,1] )"
      ],
      "execution_count": 186,
      "outputs": [
        {
          "output_type": "execute_result",
          "data": {
            "text/plain": [
              "0.05712377632115936"
            ]
          },
          "metadata": {},
          "execution_count": 186
        }
      ]
    },
    {
      "cell_type": "code",
      "metadata": {
        "colab": {
          "base_uri": "https://localhost:8080/"
        },
        "id": "P34UmMl75qZ-",
        "outputId": "e0040700-fe6b-42d7-886b-d4c779864782"
      },
      "source": [
        "# for P(mpg<50) as it is asking for prop\n",
        "stats.norm.cdf(50,loc=des.iloc[1,1],scale=des.iloc[2,1] )"
      ],
      "execution_count": 187,
      "outputs": [
        {
          "output_type": "execute_result",
          "data": {
            "text/plain": [
              "0.955992693289364"
            ]
          },
          "metadata": {},
          "execution_count": 187
        }
      ]
    },
    {
      "cell_type": "markdown",
      "metadata": {
        "id": "6KUf9dHM80HI"
      },
      "source": [
        "To Calculate P(20<MPG<50) we need to \n",
        "P(MPG<50)-P(MPG<20)\n",
        " Because we need probability for random variable in range (20 to 50)"
      ]
    },
    {
      "cell_type": "code",
      "metadata": {
        "colab": {
          "base_uri": "https://localhost:8080/"
        },
        "id": "uOrU_Qz04B12",
        "outputId": "ace89466-e094-47ae-fa99-898bf810b051"
      },
      "source": [
        "#for P (20<MPG<50) as it is asking for prop\n",
        "print(\"Probability of Mpg cars for P(20<mpg<50) is :\",stats.norm.cdf(50,loc=des.iloc[1,1],scale=des.iloc[2,1] )-(stats.norm.cdf(20,loc=des.iloc[1,1],scale=des.iloc[2,1] )))"
      ],
      "execution_count": 188,
      "outputs": [
        {
          "output_type": "stream",
          "name": "stdout",
          "text": [
            "Probability of Mpg cars for P(20<mpg<50) is : 0.8988689169682046\n"
          ]
        }
      ]
    },
    {
      "cell_type": "markdown",
      "metadata": {
        "id": "DqSSt-Ut-q1j"
      },
      "source": [
        "#Question number 21_B"
      ]
    },
    {
      "cell_type": "code",
      "metadata": {
        "id": "MwxxmENc5z4t"
      },
      "source": [
        "wcat=pd.read_csv(\"/content/wc-at.csv\")"
      ],
      "execution_count": 189,
      "outputs": []
    },
    {
      "cell_type": "code",
      "metadata": {
        "colab": {
          "base_uri": "https://localhost:8080/",
          "height": 0
        },
        "id": "gkeNSuBS-6fk",
        "outputId": "c733708c-ff24-4ee8-ea4d-3caebbbb056d"
      },
      "source": [
        "wcat.head()"
      ],
      "execution_count": 190,
      "outputs": [
        {
          "output_type": "execute_result",
          "data": {
            "text/html": [
              "<div>\n",
              "<style scoped>\n",
              "    .dataframe tbody tr th:only-of-type {\n",
              "        vertical-align: middle;\n",
              "    }\n",
              "\n",
              "    .dataframe tbody tr th {\n",
              "        vertical-align: top;\n",
              "    }\n",
              "\n",
              "    .dataframe thead th {\n",
              "        text-align: right;\n",
              "    }\n",
              "</style>\n",
              "<table border=\"1\" class=\"dataframe\">\n",
              "  <thead>\n",
              "    <tr style=\"text-align: right;\">\n",
              "      <th></th>\n",
              "      <th>Waist</th>\n",
              "      <th>AT</th>\n",
              "    </tr>\n",
              "  </thead>\n",
              "  <tbody>\n",
              "    <tr>\n",
              "      <th>0</th>\n",
              "      <td>74.75</td>\n",
              "      <td>25.72</td>\n",
              "    </tr>\n",
              "    <tr>\n",
              "      <th>1</th>\n",
              "      <td>72.60</td>\n",
              "      <td>25.89</td>\n",
              "    </tr>\n",
              "    <tr>\n",
              "      <th>2</th>\n",
              "      <td>81.80</td>\n",
              "      <td>42.60</td>\n",
              "    </tr>\n",
              "    <tr>\n",
              "      <th>3</th>\n",
              "      <td>83.95</td>\n",
              "      <td>42.80</td>\n",
              "    </tr>\n",
              "    <tr>\n",
              "      <th>4</th>\n",
              "      <td>74.65</td>\n",
              "      <td>29.84</td>\n",
              "    </tr>\n",
              "  </tbody>\n",
              "</table>\n",
              "</div>"
            ],
            "text/plain": [
              "   Waist     AT\n",
              "0  74.75  25.72\n",
              "1  72.60  25.89\n",
              "2  81.80  42.60\n",
              "3  83.95  42.80\n",
              "4  74.65  29.84"
            ]
          },
          "metadata": {},
          "execution_count": 190
        }
      ]
    },
    {
      "cell_type": "code",
      "metadata": {
        "colab": {
          "base_uri": "https://localhost:8080/",
          "height": 0
        },
        "id": "2RyfGIZ0-741",
        "outputId": "549e94fd-ae73-4068-af60-850a410af3c5"
      },
      "source": [
        "sns.distplot(wcat.iloc[:,0])"
      ],
      "execution_count": 191,
      "outputs": [
        {
          "output_type": "stream",
          "name": "stderr",
          "text": [
            "/usr/local/lib/python3.7/dist-packages/seaborn/distributions.py:2619: FutureWarning: `distplot` is a deprecated function and will be removed in a future version. Please adapt your code to use either `displot` (a figure-level function with similar flexibility) or `histplot` (an axes-level function for histograms).\n",
            "  warnings.warn(msg, FutureWarning)\n"
          ]
        },
        {
          "output_type": "execute_result",
          "data": {
            "text/plain": [
              "<matplotlib.axes._subplots.AxesSubplot at 0x7f1bf7a78450>"
            ]
          },
          "metadata": {},
          "execution_count": 191
        },
        {
          "output_type": "display_data",
          "data": {
            "image/png": "[encoded data removed]",
            "text/plain": [
              "<Figure size 432x288 with 1 Axes>"
            ]
          },
          "metadata": {
            "needs_background": "light"
          }
        }
      ]
    },
    {
      "cell_type": "code",
      "metadata": {
        "colab": {
          "base_uri": "https://localhost:8080/",
          "height": 0
        },
        "id": "UXVa7yio_NF6",
        "outputId": "c3421161-20c1-485e-c9c9-c18bc6984130"
      },
      "source": [
        "sns.distplot(wcat.iloc[:,1])"
      ],
      "execution_count": 192,
      "outputs": [
        {
          "output_type": "stream",
          "name": "stderr",
          "text": [
            "/usr/local/lib/python3.7/dist-packages/seaborn/distributions.py:2619: FutureWarning: `distplot` is a deprecated function and will be removed in a future version. Please adapt your code to use either `displot` (a figure-level function with similar flexibility) or `histplot` (an axes-level function for histograms).\n",
            "  warnings.warn(msg, FutureWarning)\n"
          ]
        },
        {
          "output_type": "execute_result",
          "data": {
            "text/plain": [
              "<matplotlib.axes._subplots.AxesSubplot at 0x7f1bf7a5d7d0>"
            ]
          },
          "metadata": {},
          "execution_count": 192
        },
        {
          "output_type": "display_data",
          "data": {
            "image/png": "[encoded data removed]",
            "text/plain": [
              "<Figure size 432x288 with 1 Axes>"
            ]
          },
          "metadata": {
            "needs_background": "light"
          }
        }
      ]
    },
    {
      "cell_type": "code",
      "metadata": {
        "id": "F1MaXbef_VBJ"
      },
      "source": [
        ""
      ],
      "execution_count": 192,
      "outputs": []
    },
    {
      "cell_type": "markdown",
      "metadata": {
        "id": "ht_fgP5Z_vxp"
      },
      "source": [
        "# Question number 22"
      ]
    },
    {
      "cell_type": "code",
      "metadata": {
        "colab": {
          "base_uri": "https://localhost:8080/"
        },
        "id": "dbW08bFe_zsY",
        "outputId": "a4f5eab1-8275-4b5a-bc0e-db1d7eece916"
      },
      "source": [
        "# Z Scores for 90% CI\n",
        "stats.norm.ppf(0.90)"
      ],
      "execution_count": 193,
      "outputs": [
        {
          "output_type": "execute_result",
          "data": {
            "text/plain": [
              "1.2815515655446004"
            ]
          },
          "metadata": {},
          "execution_count": 193
        }
      ]
    },
    {
      "cell_type": "code",
      "metadata": {
        "colab": {
          "base_uri": "https://localhost:8080/"
        },
        "id": "8p5Rk21iAD9E",
        "outputId": "f801fe25-c836-47da-d18c-334800d89952"
      },
      "source": [
        "# Z Scores for 94% CI\n",
        "stats.norm.ppf(0.94)"
      ],
      "execution_count": 194,
      "outputs": [
        {
          "output_type": "execute_result",
          "data": {
            "text/plain": [
              "1.5547735945968535"
            ]
          },
          "metadata": {},
          "execution_count": 194
        }
      ]
    },
    {
      "cell_type": "code",
      "metadata": {
        "colab": {
          "base_uri": "https://localhost:8080/"
        },
        "id": "Y9cgx575I55q",
        "outputId": "3f925b47-393a-41da-eb84-3a0b6e529887"
      },
      "source": [
        "# Z Scores for 60% CI\n",
        "stats.norm.ppf(0.60)"
      ],
      "execution_count": 195,
      "outputs": [
        {
          "output_type": "execute_result",
          "data": {
            "text/plain": [
              "0.2533471031357997"
            ]
          },
          "metadata": {},
          "execution_count": 195
        }
      ]
    },
    {
      "cell_type": "markdown",
      "metadata": {
        "id": "ATSKr73AKJpS"
      },
      "source": [
        "# Question number 23"
      ]
    },
    {
      "cell_type": "code",
      "metadata": {
        "colab": {
          "base_uri": "https://localhost:8080/"
        },
        "id": "nQva2jfoI7Tp",
        "outputId": "0c97ae9b-200f-4dc0-e8b9-41988e17c47f"
      },
      "source": [
        "#t Scores of 95% CI is\n",
        "stats.t.ppf(0.95, df=24)"
      ],
      "execution_count": 196,
      "outputs": [
        {
          "output_type": "execute_result",
          "data": {
            "text/plain": [
              "1.7108820799094275"
            ]
          },
          "metadata": {},
          "execution_count": 196
        }
      ]
    },
    {
      "cell_type": "code",
      "metadata": {
        "colab": {
          "base_uri": "https://localhost:8080/"
        },
        "id": "jE2M5G1dKiDX",
        "outputId": "d4192a37-40de-4736-bdd1-c5dae119a118"
      },
      "source": [
        "#t Scores of 96% CI is\n",
        "stats.t.ppf(0.96, df=24)"
      ],
      "execution_count": 197,
      "outputs": [
        {
          "output_type": "execute_result",
          "data": {
            "text/plain": [
              "1.8280511719596342"
            ]
          },
          "metadata": {},
          "execution_count": 197
        }
      ]
    },
    {
      "cell_type": "code",
      "metadata": {
        "colab": {
          "base_uri": "https://localhost:8080/"
        },
        "id": "kzl1AM-ZKt8u",
        "outputId": "3d3d8852-8b02-4de5-b115-ac3238b36f7b"
      },
      "source": [
        "#t Scores of 99% CI is\n",
        "stats.t.ppf(0.99, df=24)"
      ],
      "execution_count": 198,
      "outputs": [
        {
          "output_type": "execute_result",
          "data": {
            "text/plain": [
              "2.4921594731575762"
            ]
          },
          "metadata": {},
          "execution_count": 198
        }
      ]
    },
    {
      "cell_type": "markdown",
      "metadata": {
        "id": "rifD3EynQcBM"
      },
      "source": [
        "#Question number 24"
      ]
    },
    {
      "cell_type": "code",
      "metadata": {
        "id": "2dvdxnoiKwIH"
      },
      "source": [
        "from scipy import stats"
      ],
      "execution_count": 199,
      "outputs": []
    },
    {
      "cell_type": "code",
      "metadata": {
        "colab": {
          "base_uri": "https://localhost:8080/"
        },
        "id": "NrEGFswmTxwV",
        "outputId": "fbc43958-5bfe-4dc2-beab-91b13895e26e"
      },
      "source": [
        "tvalue=(260-270)/(90/np.sqrt(18))\n",
        "tvalue"
      ],
      "execution_count": 201,
      "outputs": [
        {
          "output_type": "execute_result",
          "data": {
            "text/plain": [
              "-0.4714045207910317"
            ]
          },
          "metadata": {},
          "execution_count": 201
        }
      ]
    },
    {
      "cell_type": "code",
      "metadata": {
        "id": "npi6D-p5WQ2m"
      },
      "source": [
        "pvalue=np.round(stats.t.cdf(tvalue, df=17),2)"
      ],
      "execution_count": 206,
      "outputs": []
    },
    {
      "cell_type": "code",
      "metadata": {
        "colab": {
          "base_uri": "https://localhost:8080/"
        },
        "id": "eSu_PwDWi3yS",
        "outputId": "37f0be8d-33d0-44f0-edc2-59e5bfe04d9f"
      },
      "source": [
        "print(\"Probablity of Avergae light bulb no more than 260 days is : \", pvalue*100,\"%\")"
      ],
      "execution_count": 208,
      "outputs": [
        {
          "output_type": "stream",
          "name": "stdout",
          "text": [
            "Probablity of Avergae light bulb no more than 260 days is :  32.0 %\n"
          ]
        }
      ]
    },
    {
      "cell_type": "code",
      "metadata": {
        "id": "AHhtJ5mYuhj9"
      },
      "source": [
        ""
      ],
      "execution_count": null,
      "outputs": []
    }
  ]
}